{
  "nbformat": 4,
  "nbformat_minor": 0,
  "metadata": {
    "colab": {
      "provenance": []
    },
    "kernelspec": {
      "name": "python3",
      "display_name": "Python 3"
    },
    "language_info": {
      "name": "python"
    }
  },
  "cells": [
    {
      "cell_type": "markdown",
      "source": [
        "# **Data Analysis Project: [Bike Sharing](https://www.kaggle.com/datasets/olistbr/brazilian-ecommerce?resource=download)**"
      ],
      "metadata": {
        "id": "jopOvsE97ZXH"
      }
    },
    {
      "cell_type": "markdown",
      "source": [
        "*   Name: Alifya Zhafira Ananda\n",
        "*   Email: alifya.zhafira29@gmail.com\n",
        "\n"
      ],
      "metadata": {
        "id": "mzg3d0ky7qpN"
      }
    },
    {
      "cell_type": "markdown",
      "source": [
        "## Making Business Questions for Data Analysis"
      ],
      "metadata": {
        "id": "RbL_4_S5t1jr"
      }
    },
    {
      "cell_type": "markdown",
      "source": [
        "**Spesific**\n",
        "1. How many bike rentals are used on Monday in September 2011 during the fall season?\n",
        "\n",
        "**Measureable**\n",
        "2. How many bike rentals were used on holidays during the winter season in 2012?\n",
        "\n",
        "**Action-oriented**\n",
        "3. How to increase the number of rental bicycles used by regular users on weekdays, with seasonality as the most influential variable?\n",
        "\n",
        "**Relevant**\n",
        "4. What is the relationship or correlation between temperature (temp) and the number of registered users?\n",
        "\n",
        "**Time-bound**\n",
        "5. How did the bike lending service perform for this quarter compared to the previous quarter or the previous year? How to improve performance for the next quarter?"
      ],
      "metadata": {
        "id": "1ktb-VkYuG2E"
      }
    },
    {
      "cell_type": "markdown",
      "source": [
        "## 1. Import Necessary Libraries"
      ],
      "metadata": {
        "id": "1ydLarkf-T8n"
      }
    },
    {
      "cell_type": "code",
      "execution_count": 289,
      "metadata": {
        "id": "L3tzLk8O7LMw"
      },
      "outputs": [],
      "source": [
        "import pandas as pd\n",
        "import numpy as np\n",
        "import warnings\n",
        "import matplotlib.pyplot as plt\n",
        "import seaborn as sns\n",
        "import plotly.express as px\n",
        "from scipy.stats import norm, probplot\n",
        "warnings.simplefilter(action='ignore', category=FutureWarning)"
      ]
    },
    {
      "cell_type": "markdown",
      "source": [
        "## 2. Data Wrangling"
      ],
      "metadata": {
        "id": "pdjDExl5BzL4"
      }
    },
    {
      "cell_type": "markdown",
      "source": [
        "### Gathering Data"
      ],
      "metadata": {
        "id": "rbmY7BijCZXQ"
      }
    },
    {
      "cell_type": "code",
      "source": [
        "#Load the datasets\n",
        "raw_df_day = pd.read_csv(\"/content/drive/MyDrive/dataset/day.csv\")\n",
        "raw_df_hour = pd.read_csv(\"/content/drive/MyDrive/dataset/hour.csv\")"
      ],
      "metadata": {
        "id": "bE8CbF0D8zhq"
      },
      "execution_count": 290,
      "outputs": []
    },
    {
      "cell_type": "code",
      "source": [
        "# Display the first 5 rows of the dataframe\n",
        "raw_df_day.head().style.background_gradient(cmap='Greys')"
      ],
      "metadata": {
        "colab": {
          "base_uri": "https://localhost:8080/",
          "height": 206
        },
        "id": "HXiQhqWsCF8n",
        "outputId": "0164aeed-b1be-435a-c12c-dbc69c68b9d0"
      },
      "execution_count": 291,
      "outputs": [
        {
          "output_type": "execute_result",
          "data": {
            "text/plain": [
              "<pandas.io.formats.style.Styler at 0x7d0ad66e2800>"
            ],
            "text/html": [
              "<style type=\"text/css\">\n",
              "#T_4158f_row0_col0, #T_4158f_row0_col2, #T_4158f_row0_col3, #T_4158f_row0_col4, #T_4158f_row0_col5, #T_4158f_row0_col7, #T_4158f_row0_col12, #T_4158f_row0_col14, #T_4158f_row1_col2, #T_4158f_row1_col3, #T_4158f_row1_col4, #T_4158f_row1_col5, #T_4158f_row1_col6, #T_4158f_row1_col7, #T_4158f_row1_col15, #T_4158f_row2_col2, #T_4158f_row2_col3, #T_4158f_row2_col4, #T_4158f_row2_col5, #T_4158f_row2_col8, #T_4158f_row2_col9, #T_4158f_row2_col10, #T_4158f_row2_col11, #T_4158f_row3_col2, #T_4158f_row3_col3, #T_4158f_row3_col4, #T_4158f_row3_col5, #T_4158f_row3_col8, #T_4158f_row3_col12, #T_4158f_row4_col2, #T_4158f_row4_col3, #T_4158f_row4_col4, #T_4158f_row4_col5, #T_4158f_row4_col8, #T_4158f_row4_col11, #T_4158f_row4_col13 {\n",
              "  background-color: #ffffff;\n",
              "  color: #000000;\n",
              "}\n",
              "#T_4158f_row0_col6, #T_4158f_row0_col8, #T_4158f_row0_col10, #T_4158f_row0_col11, #T_4158f_row0_col13, #T_4158f_row1_col8, #T_4158f_row1_col9, #T_4158f_row1_col12, #T_4158f_row2_col7, #T_4158f_row2_col12, #T_4158f_row3_col7, #T_4158f_row4_col0, #T_4158f_row4_col7, #T_4158f_row4_col14, #T_4158f_row4_col15 {\n",
              "  background-color: #000000;\n",
              "  color: #f1f1f1;\n",
              "}\n",
              "#T_4158f_row0_col9 {\n",
              "  background-color: #222222;\n",
              "  color: #f1f1f1;\n",
              "}\n",
              "#T_4158f_row0_col15, #T_4158f_row4_col10 {\n",
              "  background-color: #dddddd;\n",
              "  color: #000000;\n",
              "}\n",
              "#T_4158f_row1_col0 {\n",
              "  background-color: #d9d9d9;\n",
              "  color: #000000;\n",
              "}\n",
              "#T_4158f_row1_col10 {\n",
              "  background-color: #101010;\n",
              "  color: #f1f1f1;\n",
              "}\n",
              "#T_4158f_row1_col11 {\n",
              "  background-color: #5f5f5f;\n",
              "  color: #f1f1f1;\n",
              "}\n",
              "#T_4158f_row1_col13 {\n",
              "  background-color: #e3e3e3;\n",
              "  color: #000000;\n",
              "}\n",
              "#T_4158f_row1_col14, #T_4158f_row3_col9 {\n",
              "  background-color: #fdfdfd;\n",
              "  color: #000000;\n",
              "}\n",
              "#T_4158f_row2_col0, #T_4158f_row4_col6 {\n",
              "  background-color: #959595;\n",
              "  color: #f1f1f1;\n",
              "}\n",
              "#T_4158f_row2_col6 {\n",
              "  background-color: #e9e9e9;\n",
              "  color: #000000;\n",
              "}\n",
              "#T_4158f_row2_col13 {\n",
              "  background-color: #ebebeb;\n",
              "  color: #000000;\n",
              "}\n",
              "#T_4158f_row2_col14 {\n",
              "  background-color: #686868;\n",
              "  color: #f1f1f1;\n",
              "}\n",
              "#T_4158f_row2_col15 {\n",
              "  background-color: #636363;\n",
              "  color: #f1f1f1;\n",
              "}\n",
              "#T_4158f_row3_col0 {\n",
              "  background-color: #515151;\n",
              "  color: #f1f1f1;\n",
              "}\n",
              "#T_4158f_row3_col6 {\n",
              "  background-color: #c6c6c6;\n",
              "  color: #000000;\n",
              "}\n",
              "#T_4158f_row3_col10 {\n",
              "  background-color: #efefef;\n",
              "  color: #000000;\n",
              "}\n",
              "#T_4158f_row3_col11 {\n",
              "  background-color: #b0b0b0;\n",
              "  color: #000000;\n",
              "}\n",
              "#T_4158f_row3_col13 {\n",
              "  background-color: #f3f3f3;\n",
              "  color: #000000;\n",
              "}\n",
              "#T_4158f_row3_col14 {\n",
              "  background-color: #151515;\n",
              "  color: #f1f1f1;\n",
              "}\n",
              "#T_4158f_row3_col15 {\n",
              "  background-color: #0e0e0e;\n",
              "  color: #f1f1f1;\n",
              "}\n",
              "#T_4158f_row4_col9 {\n",
              "  background-color: #e6e6e6;\n",
              "  color: #000000;\n",
              "}\n",
              "#T_4158f_row4_col12 {\n",
              "  background-color: #cdcdcd;\n",
              "  color: #000000;\n",
              "}\n",
              "</style>\n",
              "<table id=\"T_4158f\" class=\"dataframe\">\n",
              "  <thead>\n",
              "    <tr>\n",
              "      <th class=\"blank level0\" >&nbsp;</th>\n",
              "      <th id=\"T_4158f_level0_col0\" class=\"col_heading level0 col0\" >instant</th>\n",
              "      <th id=\"T_4158f_level0_col1\" class=\"col_heading level0 col1\" >dteday</th>\n",
              "      <th id=\"T_4158f_level0_col2\" class=\"col_heading level0 col2\" >season</th>\n",
              "      <th id=\"T_4158f_level0_col3\" class=\"col_heading level0 col3\" >yr</th>\n",
              "      <th id=\"T_4158f_level0_col4\" class=\"col_heading level0 col4\" >mnth</th>\n",
              "      <th id=\"T_4158f_level0_col5\" class=\"col_heading level0 col5\" >holiday</th>\n",
              "      <th id=\"T_4158f_level0_col6\" class=\"col_heading level0 col6\" >weekday</th>\n",
              "      <th id=\"T_4158f_level0_col7\" class=\"col_heading level0 col7\" >workingday</th>\n",
              "      <th id=\"T_4158f_level0_col8\" class=\"col_heading level0 col8\" >weathersit</th>\n",
              "      <th id=\"T_4158f_level0_col9\" class=\"col_heading level0 col9\" >temp</th>\n",
              "      <th id=\"T_4158f_level0_col10\" class=\"col_heading level0 col10\" >atemp</th>\n",
              "      <th id=\"T_4158f_level0_col11\" class=\"col_heading level0 col11\" >hum</th>\n",
              "      <th id=\"T_4158f_level0_col12\" class=\"col_heading level0 col12\" >windspeed</th>\n",
              "      <th id=\"T_4158f_level0_col13\" class=\"col_heading level0 col13\" >casual</th>\n",
              "      <th id=\"T_4158f_level0_col14\" class=\"col_heading level0 col14\" >registered</th>\n",
              "      <th id=\"T_4158f_level0_col15\" class=\"col_heading level0 col15\" >cnt</th>\n",
              "    </tr>\n",
              "  </thead>\n",
              "  <tbody>\n",
              "    <tr>\n",
              "      <th id=\"T_4158f_level0_row0\" class=\"row_heading level0 row0\" >0</th>\n",
              "      <td id=\"T_4158f_row0_col0\" class=\"data row0 col0\" >1</td>\n",
              "      <td id=\"T_4158f_row0_col1\" class=\"data row0 col1\" >2011-01-01</td>\n",
              "      <td id=\"T_4158f_row0_col2\" class=\"data row0 col2\" >1</td>\n",
              "      <td id=\"T_4158f_row0_col3\" class=\"data row0 col3\" >0</td>\n",
              "      <td id=\"T_4158f_row0_col4\" class=\"data row0 col4\" >1</td>\n",
              "      <td id=\"T_4158f_row0_col5\" class=\"data row0 col5\" >0</td>\n",
              "      <td id=\"T_4158f_row0_col6\" class=\"data row0 col6\" >6</td>\n",
              "      <td id=\"T_4158f_row0_col7\" class=\"data row0 col7\" >0</td>\n",
              "      <td id=\"T_4158f_row0_col8\" class=\"data row0 col8\" >2</td>\n",
              "      <td id=\"T_4158f_row0_col9\" class=\"data row0 col9\" >0.344167</td>\n",
              "      <td id=\"T_4158f_row0_col10\" class=\"data row0 col10\" >0.363625</td>\n",
              "      <td id=\"T_4158f_row0_col11\" class=\"data row0 col11\" >0.805833</td>\n",
              "      <td id=\"T_4158f_row0_col12\" class=\"data row0 col12\" >0.160446</td>\n",
              "      <td id=\"T_4158f_row0_col13\" class=\"data row0 col13\" >331</td>\n",
              "      <td id=\"T_4158f_row0_col14\" class=\"data row0 col14\" >654</td>\n",
              "      <td id=\"T_4158f_row0_col15\" class=\"data row0 col15\" >985</td>\n",
              "    </tr>\n",
              "    <tr>\n",
              "      <th id=\"T_4158f_level0_row1\" class=\"row_heading level0 row1\" >1</th>\n",
              "      <td id=\"T_4158f_row1_col0\" class=\"data row1 col0\" >2</td>\n",
              "      <td id=\"T_4158f_row1_col1\" class=\"data row1 col1\" >2011-01-02</td>\n",
              "      <td id=\"T_4158f_row1_col2\" class=\"data row1 col2\" >1</td>\n",
              "      <td id=\"T_4158f_row1_col3\" class=\"data row1 col3\" >0</td>\n",
              "      <td id=\"T_4158f_row1_col4\" class=\"data row1 col4\" >1</td>\n",
              "      <td id=\"T_4158f_row1_col5\" class=\"data row1 col5\" >0</td>\n",
              "      <td id=\"T_4158f_row1_col6\" class=\"data row1 col6\" >0</td>\n",
              "      <td id=\"T_4158f_row1_col7\" class=\"data row1 col7\" >0</td>\n",
              "      <td id=\"T_4158f_row1_col8\" class=\"data row1 col8\" >2</td>\n",
              "      <td id=\"T_4158f_row1_col9\" class=\"data row1 col9\" >0.363478</td>\n",
              "      <td id=\"T_4158f_row1_col10\" class=\"data row1 col10\" >0.353739</td>\n",
              "      <td id=\"T_4158f_row1_col11\" class=\"data row1 col11\" >0.696087</td>\n",
              "      <td id=\"T_4158f_row1_col12\" class=\"data row1 col12\" >0.248539</td>\n",
              "      <td id=\"T_4158f_row1_col13\" class=\"data row1 col13\" >131</td>\n",
              "      <td id=\"T_4158f_row1_col14\" class=\"data row1 col14\" >670</td>\n",
              "      <td id=\"T_4158f_row1_col15\" class=\"data row1 col15\" >801</td>\n",
              "    </tr>\n",
              "    <tr>\n",
              "      <th id=\"T_4158f_level0_row2\" class=\"row_heading level0 row2\" >2</th>\n",
              "      <td id=\"T_4158f_row2_col0\" class=\"data row2 col0\" >3</td>\n",
              "      <td id=\"T_4158f_row2_col1\" class=\"data row2 col1\" >2011-01-03</td>\n",
              "      <td id=\"T_4158f_row2_col2\" class=\"data row2 col2\" >1</td>\n",
              "      <td id=\"T_4158f_row2_col3\" class=\"data row2 col3\" >0</td>\n",
              "      <td id=\"T_4158f_row2_col4\" class=\"data row2 col4\" >1</td>\n",
              "      <td id=\"T_4158f_row2_col5\" class=\"data row2 col5\" >0</td>\n",
              "      <td id=\"T_4158f_row2_col6\" class=\"data row2 col6\" >1</td>\n",
              "      <td id=\"T_4158f_row2_col7\" class=\"data row2 col7\" >1</td>\n",
              "      <td id=\"T_4158f_row2_col8\" class=\"data row2 col8\" >1</td>\n",
              "      <td id=\"T_4158f_row2_col9\" class=\"data row2 col9\" >0.196364</td>\n",
              "      <td id=\"T_4158f_row2_col10\" class=\"data row2 col10\" >0.189405</td>\n",
              "      <td id=\"T_4158f_row2_col11\" class=\"data row2 col11\" >0.437273</td>\n",
              "      <td id=\"T_4158f_row2_col12\" class=\"data row2 col12\" >0.248309</td>\n",
              "      <td id=\"T_4158f_row2_col13\" class=\"data row2 col13\" >120</td>\n",
              "      <td id=\"T_4158f_row2_col14\" class=\"data row2 col14\" >1229</td>\n",
              "      <td id=\"T_4158f_row2_col15\" class=\"data row2 col15\" >1349</td>\n",
              "    </tr>\n",
              "    <tr>\n",
              "      <th id=\"T_4158f_level0_row3\" class=\"row_heading level0 row3\" >3</th>\n",
              "      <td id=\"T_4158f_row3_col0\" class=\"data row3 col0\" >4</td>\n",
              "      <td id=\"T_4158f_row3_col1\" class=\"data row3 col1\" >2011-01-04</td>\n",
              "      <td id=\"T_4158f_row3_col2\" class=\"data row3 col2\" >1</td>\n",
              "      <td id=\"T_4158f_row3_col3\" class=\"data row3 col3\" >0</td>\n",
              "      <td id=\"T_4158f_row3_col4\" class=\"data row3 col4\" >1</td>\n",
              "      <td id=\"T_4158f_row3_col5\" class=\"data row3 col5\" >0</td>\n",
              "      <td id=\"T_4158f_row3_col6\" class=\"data row3 col6\" >2</td>\n",
              "      <td id=\"T_4158f_row3_col7\" class=\"data row3 col7\" >1</td>\n",
              "      <td id=\"T_4158f_row3_col8\" class=\"data row3 col8\" >1</td>\n",
              "      <td id=\"T_4158f_row3_col9\" class=\"data row3 col9\" >0.200000</td>\n",
              "      <td id=\"T_4158f_row3_col10\" class=\"data row3 col10\" >0.212122</td>\n",
              "      <td id=\"T_4158f_row3_col11\" class=\"data row3 col11\" >0.590435</td>\n",
              "      <td id=\"T_4158f_row3_col12\" class=\"data row3 col12\" >0.160296</td>\n",
              "      <td id=\"T_4158f_row3_col13\" class=\"data row3 col13\" >108</td>\n",
              "      <td id=\"T_4158f_row3_col14\" class=\"data row3 col14\" >1454</td>\n",
              "      <td id=\"T_4158f_row3_col15\" class=\"data row3 col15\" >1562</td>\n",
              "    </tr>\n",
              "    <tr>\n",
              "      <th id=\"T_4158f_level0_row4\" class=\"row_heading level0 row4\" >4</th>\n",
              "      <td id=\"T_4158f_row4_col0\" class=\"data row4 col0\" >5</td>\n",
              "      <td id=\"T_4158f_row4_col1\" class=\"data row4 col1\" >2011-01-05</td>\n",
              "      <td id=\"T_4158f_row4_col2\" class=\"data row4 col2\" >1</td>\n",
              "      <td id=\"T_4158f_row4_col3\" class=\"data row4 col3\" >0</td>\n",
              "      <td id=\"T_4158f_row4_col4\" class=\"data row4 col4\" >1</td>\n",
              "      <td id=\"T_4158f_row4_col5\" class=\"data row4 col5\" >0</td>\n",
              "      <td id=\"T_4158f_row4_col6\" class=\"data row4 col6\" >3</td>\n",
              "      <td id=\"T_4158f_row4_col7\" class=\"data row4 col7\" >1</td>\n",
              "      <td id=\"T_4158f_row4_col8\" class=\"data row4 col8\" >1</td>\n",
              "      <td id=\"T_4158f_row4_col9\" class=\"data row4 col9\" >0.226957</td>\n",
              "      <td id=\"T_4158f_row4_col10\" class=\"data row4 col10\" >0.229270</td>\n",
              "      <td id=\"T_4158f_row4_col11\" class=\"data row4 col11\" >0.436957</td>\n",
              "      <td id=\"T_4158f_row4_col12\" class=\"data row4 col12\" >0.186900</td>\n",
              "      <td id=\"T_4158f_row4_col13\" class=\"data row4 col13\" >82</td>\n",
              "      <td id=\"T_4158f_row4_col14\" class=\"data row4 col14\" >1518</td>\n",
              "      <td id=\"T_4158f_row4_col15\" class=\"data row4 col15\" >1600</td>\n",
              "    </tr>\n",
              "  </tbody>\n",
              "</table>\n"
            ]
          },
          "metadata": {},
          "execution_count": 291
        }
      ]
    },
    {
      "cell_type": "code",
      "source": [
        "# Display the first 5 rows of the dataframe\n",
        "raw_df_hour.head().style.background_gradient(cmap='Greys')"
      ],
      "metadata": {
        "colab": {
          "base_uri": "https://localhost:8080/",
          "height": 206
        },
        "id": "B3xFuyR3CQ2f",
        "outputId": "8edcaaae-dceb-4114-e74a-bf94b83958fb"
      },
      "execution_count": 292,
      "outputs": [
        {
          "output_type": "execute_result",
          "data": {
            "text/plain": [
              "<pandas.io.formats.style.Styler at 0x7d0ad6d269e0>"
            ],
            "text/html": [
              "<style type=\"text/css\">\n",
              "#T_216aa_row0_col0, #T_216aa_row0_col2, #T_216aa_row0_col3, #T_216aa_row0_col4, #T_216aa_row0_col5, #T_216aa_row0_col6, #T_216aa_row0_col7, #T_216aa_row0_col8, #T_216aa_row0_col9, #T_216aa_row0_col13, #T_216aa_row1_col2, #T_216aa_row1_col3, #T_216aa_row1_col4, #T_216aa_row1_col6, #T_216aa_row1_col7, #T_216aa_row1_col8, #T_216aa_row1_col9, #T_216aa_row1_col10, #T_216aa_row1_col11, #T_216aa_row1_col13, #T_216aa_row2_col2, #T_216aa_row2_col3, #T_216aa_row2_col4, #T_216aa_row2_col6, #T_216aa_row2_col7, #T_216aa_row2_col8, #T_216aa_row2_col9, #T_216aa_row2_col10, #T_216aa_row2_col11, #T_216aa_row2_col13, #T_216aa_row3_col2, #T_216aa_row3_col3, #T_216aa_row3_col4, #T_216aa_row3_col6, #T_216aa_row3_col7, #T_216aa_row3_col8, #T_216aa_row3_col9, #T_216aa_row3_col12, #T_216aa_row3_col13, #T_216aa_row4_col2, #T_216aa_row4_col3, #T_216aa_row4_col4, #T_216aa_row4_col6, #T_216aa_row4_col7, #T_216aa_row4_col8, #T_216aa_row4_col9, #T_216aa_row4_col12, #T_216aa_row4_col13, #T_216aa_row4_col14, #T_216aa_row4_col15, #T_216aa_row4_col16 {\n",
              "  background-color: #ffffff;\n",
              "  color: #000000;\n",
              "}\n",
              "#T_216aa_row0_col10, #T_216aa_row0_col11, #T_216aa_row0_col12, #T_216aa_row1_col14, #T_216aa_row1_col15, #T_216aa_row1_col16, #T_216aa_row3_col10, #T_216aa_row3_col11, #T_216aa_row4_col0, #T_216aa_row4_col5, #T_216aa_row4_col10, #T_216aa_row4_col11 {\n",
              "  background-color: #000000;\n",
              "  color: #f1f1f1;\n",
              "}\n",
              "#T_216aa_row0_col14, #T_216aa_row3_col14 {\n",
              "  background-color: #bdbdbd;\n",
              "  color: #000000;\n",
              "}\n",
              "#T_216aa_row0_col15 {\n",
              "  background-color: #b9b9b9;\n",
              "  color: #000000;\n",
              "}\n",
              "#T_216aa_row0_col16 {\n",
              "  background-color: #bababa;\n",
              "  color: #000000;\n",
              "}\n",
              "#T_216aa_row1_col0, #T_216aa_row1_col5 {\n",
              "  background-color: #d9d9d9;\n",
              "  color: #000000;\n",
              "}\n",
              "#T_216aa_row1_col12, #T_216aa_row2_col12 {\n",
              "  background-color: #333333;\n",
              "  color: #f1f1f1;\n",
              "}\n",
              "#T_216aa_row2_col0, #T_216aa_row2_col5 {\n",
              "  background-color: #959595;\n",
              "  color: #f1f1f1;\n",
              "}\n",
              "#T_216aa_row2_col14 {\n",
              "  background-color: #727272;\n",
              "  color: #f1f1f1;\n",
              "}\n",
              "#T_216aa_row2_col15 {\n",
              "  background-color: #323232;\n",
              "  color: #f1f1f1;\n",
              "}\n",
              "#T_216aa_row2_col16 {\n",
              "  background-color: #414141;\n",
              "  color: #f1f1f1;\n",
              "}\n",
              "#T_216aa_row3_col0, #T_216aa_row3_col5 {\n",
              "  background-color: #515151;\n",
              "  color: #f1f1f1;\n",
              "}\n",
              "#T_216aa_row3_col15 {\n",
              "  background-color: #d0d0d0;\n",
              "  color: #000000;\n",
              "}\n",
              "#T_216aa_row3_col16 {\n",
              "  background-color: #cccccc;\n",
              "  color: #000000;\n",
              "}\n",
              "</style>\n",
              "<table id=\"T_216aa\" class=\"dataframe\">\n",
              "  <thead>\n",
              "    <tr>\n",
              "      <th class=\"blank level0\" >&nbsp;</th>\n",
              "      <th id=\"T_216aa_level0_col0\" class=\"col_heading level0 col0\" >instant</th>\n",
              "      <th id=\"T_216aa_level0_col1\" class=\"col_heading level0 col1\" >dteday</th>\n",
              "      <th id=\"T_216aa_level0_col2\" class=\"col_heading level0 col2\" >season</th>\n",
              "      <th id=\"T_216aa_level0_col3\" class=\"col_heading level0 col3\" >yr</th>\n",
              "      <th id=\"T_216aa_level0_col4\" class=\"col_heading level0 col4\" >mnth</th>\n",
              "      <th id=\"T_216aa_level0_col5\" class=\"col_heading level0 col5\" >hr</th>\n",
              "      <th id=\"T_216aa_level0_col6\" class=\"col_heading level0 col6\" >holiday</th>\n",
              "      <th id=\"T_216aa_level0_col7\" class=\"col_heading level0 col7\" >weekday</th>\n",
              "      <th id=\"T_216aa_level0_col8\" class=\"col_heading level0 col8\" >workingday</th>\n",
              "      <th id=\"T_216aa_level0_col9\" class=\"col_heading level0 col9\" >weathersit</th>\n",
              "      <th id=\"T_216aa_level0_col10\" class=\"col_heading level0 col10\" >temp</th>\n",
              "      <th id=\"T_216aa_level0_col11\" class=\"col_heading level0 col11\" >atemp</th>\n",
              "      <th id=\"T_216aa_level0_col12\" class=\"col_heading level0 col12\" >hum</th>\n",
              "      <th id=\"T_216aa_level0_col13\" class=\"col_heading level0 col13\" >windspeed</th>\n",
              "      <th id=\"T_216aa_level0_col14\" class=\"col_heading level0 col14\" >casual</th>\n",
              "      <th id=\"T_216aa_level0_col15\" class=\"col_heading level0 col15\" >registered</th>\n",
              "      <th id=\"T_216aa_level0_col16\" class=\"col_heading level0 col16\" >cnt</th>\n",
              "    </tr>\n",
              "  </thead>\n",
              "  <tbody>\n",
              "    <tr>\n",
              "      <th id=\"T_216aa_level0_row0\" class=\"row_heading level0 row0\" >0</th>\n",
              "      <td id=\"T_216aa_row0_col0\" class=\"data row0 col0\" >1</td>\n",
              "      <td id=\"T_216aa_row0_col1\" class=\"data row0 col1\" >2011-01-01</td>\n",
              "      <td id=\"T_216aa_row0_col2\" class=\"data row0 col2\" >1</td>\n",
              "      <td id=\"T_216aa_row0_col3\" class=\"data row0 col3\" >0</td>\n",
              "      <td id=\"T_216aa_row0_col4\" class=\"data row0 col4\" >1</td>\n",
              "      <td id=\"T_216aa_row0_col5\" class=\"data row0 col5\" >0</td>\n",
              "      <td id=\"T_216aa_row0_col6\" class=\"data row0 col6\" >0</td>\n",
              "      <td id=\"T_216aa_row0_col7\" class=\"data row0 col7\" >6</td>\n",
              "      <td id=\"T_216aa_row0_col8\" class=\"data row0 col8\" >0</td>\n",
              "      <td id=\"T_216aa_row0_col9\" class=\"data row0 col9\" >1</td>\n",
              "      <td id=\"T_216aa_row0_col10\" class=\"data row0 col10\" >0.240000</td>\n",
              "      <td id=\"T_216aa_row0_col11\" class=\"data row0 col11\" >0.287900</td>\n",
              "      <td id=\"T_216aa_row0_col12\" class=\"data row0 col12\" >0.810000</td>\n",
              "      <td id=\"T_216aa_row0_col13\" class=\"data row0 col13\" >0.000000</td>\n",
              "      <td id=\"T_216aa_row0_col14\" class=\"data row0 col14\" >3</td>\n",
              "      <td id=\"T_216aa_row0_col15\" class=\"data row0 col15\" >13</td>\n",
              "      <td id=\"T_216aa_row0_col16\" class=\"data row0 col16\" >16</td>\n",
              "    </tr>\n",
              "    <tr>\n",
              "      <th id=\"T_216aa_level0_row1\" class=\"row_heading level0 row1\" >1</th>\n",
              "      <td id=\"T_216aa_row1_col0\" class=\"data row1 col0\" >2</td>\n",
              "      <td id=\"T_216aa_row1_col1\" class=\"data row1 col1\" >2011-01-01</td>\n",
              "      <td id=\"T_216aa_row1_col2\" class=\"data row1 col2\" >1</td>\n",
              "      <td id=\"T_216aa_row1_col3\" class=\"data row1 col3\" >0</td>\n",
              "      <td id=\"T_216aa_row1_col4\" class=\"data row1 col4\" >1</td>\n",
              "      <td id=\"T_216aa_row1_col5\" class=\"data row1 col5\" >1</td>\n",
              "      <td id=\"T_216aa_row1_col6\" class=\"data row1 col6\" >0</td>\n",
              "      <td id=\"T_216aa_row1_col7\" class=\"data row1 col7\" >6</td>\n",
              "      <td id=\"T_216aa_row1_col8\" class=\"data row1 col8\" >0</td>\n",
              "      <td id=\"T_216aa_row1_col9\" class=\"data row1 col9\" >1</td>\n",
              "      <td id=\"T_216aa_row1_col10\" class=\"data row1 col10\" >0.220000</td>\n",
              "      <td id=\"T_216aa_row1_col11\" class=\"data row1 col11\" >0.272700</td>\n",
              "      <td id=\"T_216aa_row1_col12\" class=\"data row1 col12\" >0.800000</td>\n",
              "      <td id=\"T_216aa_row1_col13\" class=\"data row1 col13\" >0.000000</td>\n",
              "      <td id=\"T_216aa_row1_col14\" class=\"data row1 col14\" >8</td>\n",
              "      <td id=\"T_216aa_row1_col15\" class=\"data row1 col15\" >32</td>\n",
              "      <td id=\"T_216aa_row1_col16\" class=\"data row1 col16\" >40</td>\n",
              "    </tr>\n",
              "    <tr>\n",
              "      <th id=\"T_216aa_level0_row2\" class=\"row_heading level0 row2\" >2</th>\n",
              "      <td id=\"T_216aa_row2_col0\" class=\"data row2 col0\" >3</td>\n",
              "      <td id=\"T_216aa_row2_col1\" class=\"data row2 col1\" >2011-01-01</td>\n",
              "      <td id=\"T_216aa_row2_col2\" class=\"data row2 col2\" >1</td>\n",
              "      <td id=\"T_216aa_row2_col3\" class=\"data row2 col3\" >0</td>\n",
              "      <td id=\"T_216aa_row2_col4\" class=\"data row2 col4\" >1</td>\n",
              "      <td id=\"T_216aa_row2_col5\" class=\"data row2 col5\" >2</td>\n",
              "      <td id=\"T_216aa_row2_col6\" class=\"data row2 col6\" >0</td>\n",
              "      <td id=\"T_216aa_row2_col7\" class=\"data row2 col7\" >6</td>\n",
              "      <td id=\"T_216aa_row2_col8\" class=\"data row2 col8\" >0</td>\n",
              "      <td id=\"T_216aa_row2_col9\" class=\"data row2 col9\" >1</td>\n",
              "      <td id=\"T_216aa_row2_col10\" class=\"data row2 col10\" >0.220000</td>\n",
              "      <td id=\"T_216aa_row2_col11\" class=\"data row2 col11\" >0.272700</td>\n",
              "      <td id=\"T_216aa_row2_col12\" class=\"data row2 col12\" >0.800000</td>\n",
              "      <td id=\"T_216aa_row2_col13\" class=\"data row2 col13\" >0.000000</td>\n",
              "      <td id=\"T_216aa_row2_col14\" class=\"data row2 col14\" >5</td>\n",
              "      <td id=\"T_216aa_row2_col15\" class=\"data row2 col15\" >27</td>\n",
              "      <td id=\"T_216aa_row2_col16\" class=\"data row2 col16\" >32</td>\n",
              "    </tr>\n",
              "    <tr>\n",
              "      <th id=\"T_216aa_level0_row3\" class=\"row_heading level0 row3\" >3</th>\n",
              "      <td id=\"T_216aa_row3_col0\" class=\"data row3 col0\" >4</td>\n",
              "      <td id=\"T_216aa_row3_col1\" class=\"data row3 col1\" >2011-01-01</td>\n",
              "      <td id=\"T_216aa_row3_col2\" class=\"data row3 col2\" >1</td>\n",
              "      <td id=\"T_216aa_row3_col3\" class=\"data row3 col3\" >0</td>\n",
              "      <td id=\"T_216aa_row3_col4\" class=\"data row3 col4\" >1</td>\n",
              "      <td id=\"T_216aa_row3_col5\" class=\"data row3 col5\" >3</td>\n",
              "      <td id=\"T_216aa_row3_col6\" class=\"data row3 col6\" >0</td>\n",
              "      <td id=\"T_216aa_row3_col7\" class=\"data row3 col7\" >6</td>\n",
              "      <td id=\"T_216aa_row3_col8\" class=\"data row3 col8\" >0</td>\n",
              "      <td id=\"T_216aa_row3_col9\" class=\"data row3 col9\" >1</td>\n",
              "      <td id=\"T_216aa_row3_col10\" class=\"data row3 col10\" >0.240000</td>\n",
              "      <td id=\"T_216aa_row3_col11\" class=\"data row3 col11\" >0.287900</td>\n",
              "      <td id=\"T_216aa_row3_col12\" class=\"data row3 col12\" >0.750000</td>\n",
              "      <td id=\"T_216aa_row3_col13\" class=\"data row3 col13\" >0.000000</td>\n",
              "      <td id=\"T_216aa_row3_col14\" class=\"data row3 col14\" >3</td>\n",
              "      <td id=\"T_216aa_row3_col15\" class=\"data row3 col15\" >10</td>\n",
              "      <td id=\"T_216aa_row3_col16\" class=\"data row3 col16\" >13</td>\n",
              "    </tr>\n",
              "    <tr>\n",
              "      <th id=\"T_216aa_level0_row4\" class=\"row_heading level0 row4\" >4</th>\n",
              "      <td id=\"T_216aa_row4_col0\" class=\"data row4 col0\" >5</td>\n",
              "      <td id=\"T_216aa_row4_col1\" class=\"data row4 col1\" >2011-01-01</td>\n",
              "      <td id=\"T_216aa_row4_col2\" class=\"data row4 col2\" >1</td>\n",
              "      <td id=\"T_216aa_row4_col3\" class=\"data row4 col3\" >0</td>\n",
              "      <td id=\"T_216aa_row4_col4\" class=\"data row4 col4\" >1</td>\n",
              "      <td id=\"T_216aa_row4_col5\" class=\"data row4 col5\" >4</td>\n",
              "      <td id=\"T_216aa_row4_col6\" class=\"data row4 col6\" >0</td>\n",
              "      <td id=\"T_216aa_row4_col7\" class=\"data row4 col7\" >6</td>\n",
              "      <td id=\"T_216aa_row4_col8\" class=\"data row4 col8\" >0</td>\n",
              "      <td id=\"T_216aa_row4_col9\" class=\"data row4 col9\" >1</td>\n",
              "      <td id=\"T_216aa_row4_col10\" class=\"data row4 col10\" >0.240000</td>\n",
              "      <td id=\"T_216aa_row4_col11\" class=\"data row4 col11\" >0.287900</td>\n",
              "      <td id=\"T_216aa_row4_col12\" class=\"data row4 col12\" >0.750000</td>\n",
              "      <td id=\"T_216aa_row4_col13\" class=\"data row4 col13\" >0.000000</td>\n",
              "      <td id=\"T_216aa_row4_col14\" class=\"data row4 col14\" >0</td>\n",
              "      <td id=\"T_216aa_row4_col15\" class=\"data row4 col15\" >1</td>\n",
              "      <td id=\"T_216aa_row4_col16\" class=\"data row4 col16\" >1</td>\n",
              "    </tr>\n",
              "  </tbody>\n",
              "</table>\n"
            ]
          },
          "metadata": {},
          "execution_count": 292
        }
      ]
    },
    {
      "cell_type": "markdown",
      "source": [
        "## 3. Assessing Data"
      ],
      "metadata": {
        "id": "NXT155HpC0JY"
      }
    },
    {
      "cell_type": "markdown",
      "source": [
        "### Data Type"
      ],
      "metadata": {
        "id": "-rxjZQVyC7Lz"
      }
    },
    {
      "cell_type": "code",
      "source": [
        "print('Dataframe day:')\n",
        "print(raw_df_day.info())\n",
        "\n",
        "print('\\nDataframe hour:')\n",
        "print(raw_df_hour.info())"
      ],
      "metadata": {
        "colab": {
          "base_uri": "https://localhost:8080/"
        },
        "id": "ARHTZkNECvpZ",
        "outputId": "8b1c81e5-bd9c-4b06-ce1d-24f798a1371d"
      },
      "execution_count": 293,
      "outputs": [
        {
          "output_type": "stream",
          "name": "stdout",
          "text": [
            "Dataframe day:\n",
            "<class 'pandas.core.frame.DataFrame'>\n",
            "RangeIndex: 731 entries, 0 to 730\n",
            "Data columns (total 16 columns):\n",
            " #   Column      Non-Null Count  Dtype  \n",
            "---  ------      --------------  -----  \n",
            " 0   instant     731 non-null    int64  \n",
            " 1   dteday      731 non-null    object \n",
            " 2   season      731 non-null    int64  \n",
            " 3   yr          731 non-null    int64  \n",
            " 4   mnth        731 non-null    int64  \n",
            " 5   holiday     731 non-null    int64  \n",
            " 6   weekday     731 non-null    int64  \n",
            " 7   workingday  731 non-null    int64  \n",
            " 8   weathersit  731 non-null    int64  \n",
            " 9   temp        731 non-null    float64\n",
            " 10  atemp       731 non-null    float64\n",
            " 11  hum         731 non-null    float64\n",
            " 12  windspeed   731 non-null    float64\n",
            " 13  casual      731 non-null    int64  \n",
            " 14  registered  731 non-null    int64  \n",
            " 15  cnt         731 non-null    int64  \n",
            "dtypes: float64(4), int64(11), object(1)\n",
            "memory usage: 91.5+ KB\n",
            "None\n",
            "\n",
            "Dataframe hour:\n",
            "<class 'pandas.core.frame.DataFrame'>\n",
            "RangeIndex: 17379 entries, 0 to 17378\n",
            "Data columns (total 17 columns):\n",
            " #   Column      Non-Null Count  Dtype  \n",
            "---  ------      --------------  -----  \n",
            " 0   instant     17379 non-null  int64  \n",
            " 1   dteday      17379 non-null  object \n",
            " 2   season      17379 non-null  int64  \n",
            " 3   yr          17379 non-null  int64  \n",
            " 4   mnth        17379 non-null  int64  \n",
            " 5   hr          17379 non-null  int64  \n",
            " 6   holiday     17379 non-null  int64  \n",
            " 7   weekday     17379 non-null  int64  \n",
            " 8   workingday  17379 non-null  int64  \n",
            " 9   weathersit  17379 non-null  int64  \n",
            " 10  temp        17379 non-null  float64\n",
            " 11  atemp       17379 non-null  float64\n",
            " 12  hum         17379 non-null  float64\n",
            " 13  windspeed   17379 non-null  float64\n",
            " 14  casual      17379 non-null  int64  \n",
            " 15  registered  17379 non-null  int64  \n",
            " 16  cnt         17379 non-null  int64  \n",
            "dtypes: float64(4), int64(12), object(1)\n",
            "memory usage: 2.3+ MB\n",
            "None\n"
          ]
        }
      ]
    },
    {
      "cell_type": "markdown",
      "source": [
        "On both datasets, there is an issue with the data type in the dteday column, which initially should be of **datetime** type but is currently an **object**."
      ],
      "metadata": {
        "id": "N56nlDwIDCka"
      }
    },
    {
      "cell_type": "markdown",
      "source": [
        "### Missing Value"
      ],
      "metadata": {
        "id": "HHEwerHfDqpg"
      }
    },
    {
      "cell_type": "code",
      "source": [
        "print('Dataframe day:')\n",
        "print(raw_df_day.isna().sum())\n",
        "\n",
        "print('\\nDataframe hour:')\n",
        "print(raw_df_hour.isna().sum())"
      ],
      "metadata": {
        "colab": {
          "base_uri": "https://localhost:8080/"
        },
        "id": "qT4j5kdDDiJD",
        "outputId": "3ff064d9-12aa-480e-c499-a55f3ef97133"
      },
      "execution_count": 294,
      "outputs": [
        {
          "output_type": "stream",
          "name": "stdout",
          "text": [
            "Dataframe day:\n",
            "instant       0\n",
            "dteday        0\n",
            "season        0\n",
            "yr            0\n",
            "mnth          0\n",
            "holiday       0\n",
            "weekday       0\n",
            "workingday    0\n",
            "weathersit    0\n",
            "temp          0\n",
            "atemp         0\n",
            "hum           0\n",
            "windspeed     0\n",
            "casual        0\n",
            "registered    0\n",
            "cnt           0\n",
            "dtype: int64\n",
            "\n",
            "Dataframe hour:\n",
            "instant       0\n",
            "dteday        0\n",
            "season        0\n",
            "yr            0\n",
            "mnth          0\n",
            "hr            0\n",
            "holiday       0\n",
            "weekday       0\n",
            "workingday    0\n",
            "weathersit    0\n",
            "temp          0\n",
            "atemp         0\n",
            "hum           0\n",
            "windspeed     0\n",
            "casual        0\n",
            "registered    0\n",
            "cnt           0\n",
            "dtype: int64\n"
          ]
        }
      ]
    },
    {
      "cell_type": "markdown",
      "source": [
        "There's no missing value in both datasets."
      ],
      "metadata": {
        "id": "OmQAuskiDxoa"
      }
    },
    {
      "cell_type": "markdown",
      "source": [
        "#### Duplicate Data"
      ],
      "metadata": {
        "id": "ei4rD24bD81j"
      }
    },
    {
      "cell_type": "code",
      "source": [
        "print('day:', raw_df_day.duplicated().sum())\n",
        "print(\"hour:\", raw_df_hour.duplicated().sum())"
      ],
      "metadata": {
        "colab": {
          "base_uri": "https://localhost:8080/"
        },
        "id": "pfTLA9S2D2R7",
        "outputId": "88186130-aa8c-4b37-98cb-d77230e4fb2f"
      },
      "execution_count": 295,
      "outputs": [
        {
          "output_type": "stream",
          "name": "stdout",
          "text": [
            "day: 0\n",
            "hour: 0\n"
          ]
        }
      ]
    },
    {
      "cell_type": "markdown",
      "source": [
        "There's no duplicated data in both datasets."
      ],
      "metadata": {
        "id": "RLamv_EJEJXh"
      }
    },
    {
      "cell_type": "markdown",
      "source": [
        "### Descriptive Statistics"
      ],
      "metadata": {
        "id": "KYAB9gPtEfGg"
      }
    },
    {
      "cell_type": "code",
      "source": [
        "raw_df_day.describe()"
      ],
      "metadata": {
        "colab": {
          "base_uri": "https://localhost:8080/",
          "height": 301
        },
        "id": "8WpkZS9MElzE",
        "outputId": "867805df-3b33-4a10-fab7-213f80c059ca"
      },
      "execution_count": 296,
      "outputs": [
        {
          "output_type": "execute_result",
          "data": {
            "text/plain": [
              "       instant  season     yr   mnth  holiday  weekday  workingday  \\\n",
              "count   731.00  731.00 731.00 731.00   731.00   731.00      731.00   \n",
              "mean    366.00    2.50   0.50   6.52     0.03     3.00        0.68   \n",
              "std     211.17    1.11   0.50   3.45     0.17     2.00        0.47   \n",
              "min       1.00    1.00   0.00   1.00     0.00     0.00        0.00   \n",
              "25%     183.50    2.00   0.00   4.00     0.00     1.00        0.00   \n",
              "50%     366.00    3.00   1.00   7.00     0.00     3.00        1.00   \n",
              "75%     548.50    3.00   1.00  10.00     0.00     5.00        1.00   \n",
              "max     731.00    4.00   1.00  12.00     1.00     6.00        1.00   \n",
              "\n",
              "       weathersit   temp  atemp    hum  windspeed  casual  registered     cnt  \n",
              "count      731.00 731.00 731.00 731.00     731.00  731.00      731.00  731.00  \n",
              "mean         1.40   0.50   0.47   0.63       0.19  848.18     3656.17 4504.35  \n",
              "std          0.54   0.18   0.16   0.14       0.08  686.62     1560.26 1937.21  \n",
              "min          1.00   0.06   0.08   0.00       0.02    2.00       20.00   22.00  \n",
              "25%          1.00   0.34   0.34   0.52       0.13  315.50     2497.00 3152.00  \n",
              "50%          1.00   0.50   0.49   0.63       0.18  713.00     3662.00 4548.00  \n",
              "75%          2.00   0.66   0.61   0.73       0.23 1096.00     4776.50 5956.00  \n",
              "max          3.00   0.86   0.84   0.97       0.51 3410.00     6946.00 8714.00  "
            ],
            "text/html": [
              "\n",
              "  <div id=\"df-3c627e82-fe28-4020-a87d-dfc441db4665\" class=\"colab-df-container\">\n",
              "    <div>\n",
              "<style scoped>\n",
              "    .dataframe tbody tr th:only-of-type {\n",
              "        vertical-align: middle;\n",
              "    }\n",
              "\n",
              "    .dataframe tbody tr th {\n",
              "        vertical-align: top;\n",
              "    }\n",
              "\n",
              "    .dataframe thead th {\n",
              "        text-align: right;\n",
              "    }\n",
              "</style>\n",
              "<table border=\"1\" class=\"dataframe\">\n",
              "  <thead>\n",
              "    <tr style=\"text-align: right;\">\n",
              "      <th></th>\n",
              "      <th>instant</th>\n",
              "      <th>season</th>\n",
              "      <th>yr</th>\n",
              "      <th>mnth</th>\n",
              "      <th>holiday</th>\n",
              "      <th>weekday</th>\n",
              "      <th>workingday</th>\n",
              "      <th>weathersit</th>\n",
              "      <th>temp</th>\n",
              "      <th>atemp</th>\n",
              "      <th>hum</th>\n",
              "      <th>windspeed</th>\n",
              "      <th>casual</th>\n",
              "      <th>registered</th>\n",
              "      <th>cnt</th>\n",
              "    </tr>\n",
              "  </thead>\n",
              "  <tbody>\n",
              "    <tr>\n",
              "      <th>count</th>\n",
              "      <td>731.00</td>\n",
              "      <td>731.00</td>\n",
              "      <td>731.00</td>\n",
              "      <td>731.00</td>\n",
              "      <td>731.00</td>\n",
              "      <td>731.00</td>\n",
              "      <td>731.00</td>\n",
              "      <td>731.00</td>\n",
              "      <td>731.00</td>\n",
              "      <td>731.00</td>\n",
              "      <td>731.00</td>\n",
              "      <td>731.00</td>\n",
              "      <td>731.00</td>\n",
              "      <td>731.00</td>\n",
              "      <td>731.00</td>\n",
              "    </tr>\n",
              "    <tr>\n",
              "      <th>mean</th>\n",
              "      <td>366.00</td>\n",
              "      <td>2.50</td>\n",
              "      <td>0.50</td>\n",
              "      <td>6.52</td>\n",
              "      <td>0.03</td>\n",
              "      <td>3.00</td>\n",
              "      <td>0.68</td>\n",
              "      <td>1.40</td>\n",
              "      <td>0.50</td>\n",
              "      <td>0.47</td>\n",
              "      <td>0.63</td>\n",
              "      <td>0.19</td>\n",
              "      <td>848.18</td>\n",
              "      <td>3656.17</td>\n",
              "      <td>4504.35</td>\n",
              "    </tr>\n",
              "    <tr>\n",
              "      <th>std</th>\n",
              "      <td>211.17</td>\n",
              "      <td>1.11</td>\n",
              "      <td>0.50</td>\n",
              "      <td>3.45</td>\n",
              "      <td>0.17</td>\n",
              "      <td>2.00</td>\n",
              "      <td>0.47</td>\n",
              "      <td>0.54</td>\n",
              "      <td>0.18</td>\n",
              "      <td>0.16</td>\n",
              "      <td>0.14</td>\n",
              "      <td>0.08</td>\n",
              "      <td>686.62</td>\n",
              "      <td>1560.26</td>\n",
              "      <td>1937.21</td>\n",
              "    </tr>\n",
              "    <tr>\n",
              "      <th>min</th>\n",
              "      <td>1.00</td>\n",
              "      <td>1.00</td>\n",
              "      <td>0.00</td>\n",
              "      <td>1.00</td>\n",
              "      <td>0.00</td>\n",
              "      <td>0.00</td>\n",
              "      <td>0.00</td>\n",
              "      <td>1.00</td>\n",
              "      <td>0.06</td>\n",
              "      <td>0.08</td>\n",
              "      <td>0.00</td>\n",
              "      <td>0.02</td>\n",
              "      <td>2.00</td>\n",
              "      <td>20.00</td>\n",
              "      <td>22.00</td>\n",
              "    </tr>\n",
              "    <tr>\n",
              "      <th>25%</th>\n",
              "      <td>183.50</td>\n",
              "      <td>2.00</td>\n",
              "      <td>0.00</td>\n",
              "      <td>4.00</td>\n",
              "      <td>0.00</td>\n",
              "      <td>1.00</td>\n",
              "      <td>0.00</td>\n",
              "      <td>1.00</td>\n",
              "      <td>0.34</td>\n",
              "      <td>0.34</td>\n",
              "      <td>0.52</td>\n",
              "      <td>0.13</td>\n",
              "      <td>315.50</td>\n",
              "      <td>2497.00</td>\n",
              "      <td>3152.00</td>\n",
              "    </tr>\n",
              "    <tr>\n",
              "      <th>50%</th>\n",
              "      <td>366.00</td>\n",
              "      <td>3.00</td>\n",
              "      <td>1.00</td>\n",
              "      <td>7.00</td>\n",
              "      <td>0.00</td>\n",
              "      <td>3.00</td>\n",
              "      <td>1.00</td>\n",
              "      <td>1.00</td>\n",
              "      <td>0.50</td>\n",
              "      <td>0.49</td>\n",
              "      <td>0.63</td>\n",
              "      <td>0.18</td>\n",
              "      <td>713.00</td>\n",
              "      <td>3662.00</td>\n",
              "      <td>4548.00</td>\n",
              "    </tr>\n",
              "    <tr>\n",
              "      <th>75%</th>\n",
              "      <td>548.50</td>\n",
              "      <td>3.00</td>\n",
              "      <td>1.00</td>\n",
              "      <td>10.00</td>\n",
              "      <td>0.00</td>\n",
              "      <td>5.00</td>\n",
              "      <td>1.00</td>\n",
              "      <td>2.00</td>\n",
              "      <td>0.66</td>\n",
              "      <td>0.61</td>\n",
              "      <td>0.73</td>\n",
              "      <td>0.23</td>\n",
              "      <td>1096.00</td>\n",
              "      <td>4776.50</td>\n",
              "      <td>5956.00</td>\n",
              "    </tr>\n",
              "    <tr>\n",
              "      <th>max</th>\n",
              "      <td>731.00</td>\n",
              "      <td>4.00</td>\n",
              "      <td>1.00</td>\n",
              "      <td>12.00</td>\n",
              "      <td>1.00</td>\n",
              "      <td>6.00</td>\n",
              "      <td>1.00</td>\n",
              "      <td>3.00</td>\n",
              "      <td>0.86</td>\n",
              "      <td>0.84</td>\n",
              "      <td>0.97</td>\n",
              "      <td>0.51</td>\n",
              "      <td>3410.00</td>\n",
              "      <td>6946.00</td>\n",
              "      <td>8714.00</td>\n",
              "    </tr>\n",
              "  </tbody>\n",
              "</table>\n",
              "</div>\n",
              "    <div class=\"colab-df-buttons\">\n",
              "\n",
              "  <div class=\"colab-df-container\">\n",
              "    <button class=\"colab-df-convert\" onclick=\"convertToInteractive('df-3c627e82-fe28-4020-a87d-dfc441db4665')\"\n",
              "            title=\"Convert this dataframe to an interactive table.\"\n",
              "            style=\"display:none;\">\n",
              "\n",
              "  <svg xmlns=\"http://www.w3.org/2000/svg\" height=\"24px\" viewBox=\"0 -960 960 960\">\n",
              "    <path d=\"M120-120v-720h720v720H120Zm60-500h600v-160H180v160Zm220 220h160v-160H400v160Zm0 220h160v-160H400v160ZM180-400h160v-160H180v160Zm440 0h160v-160H620v160ZM180-180h160v-160H180v160Zm440 0h160v-160H620v160Z\"/>\n",
              "  </svg>\n",
              "    </button>\n",
              "\n",
              "  <style>\n",
              "    .colab-df-container {\n",
              "      display:flex;\n",
              "      gap: 12px;\n",
              "    }\n",
              "\n",
              "    .colab-df-convert {\n",
              "      background-color: #E8F0FE;\n",
              "      border: none;\n",
              "      border-radius: 50%;\n",
              "      cursor: pointer;\n",
              "      display: none;\n",
              "      fill: #1967D2;\n",
              "      height: 32px;\n",
              "      padding: 0 0 0 0;\n",
              "      width: 32px;\n",
              "    }\n",
              "\n",
              "    .colab-df-convert:hover {\n",
              "      background-color: #E2EBFA;\n",
              "      box-shadow: 0px 1px 2px rgba(60, 64, 67, 0.3), 0px 1px 3px 1px rgba(60, 64, 67, 0.15);\n",
              "      fill: #174EA6;\n",
              "    }\n",
              "\n",
              "    .colab-df-buttons div {\n",
              "      margin-bottom: 4px;\n",
              "    }\n",
              "\n",
              "    [theme=dark] .colab-df-convert {\n",
              "      background-color: #3B4455;\n",
              "      fill: #D2E3FC;\n",
              "    }\n",
              "\n",
              "    [theme=dark] .colab-df-convert:hover {\n",
              "      background-color: #434B5C;\n",
              "      box-shadow: 0px 1px 3px 1px rgba(0, 0, 0, 0.15);\n",
              "      filter: drop-shadow(0px 1px 2px rgba(0, 0, 0, 0.3));\n",
              "      fill: #FFFFFF;\n",
              "    }\n",
              "  </style>\n",
              "\n",
              "    <script>\n",
              "      const buttonEl =\n",
              "        document.querySelector('#df-3c627e82-fe28-4020-a87d-dfc441db4665 button.colab-df-convert');\n",
              "      buttonEl.style.display =\n",
              "        google.colab.kernel.accessAllowed ? 'block' : 'none';\n",
              "\n",
              "      async function convertToInteractive(key) {\n",
              "        const element = document.querySelector('#df-3c627e82-fe28-4020-a87d-dfc441db4665');\n",
              "        const dataTable =\n",
              "          await google.colab.kernel.invokeFunction('convertToInteractive',\n",
              "                                                    [key], {});\n",
              "        if (!dataTable) return;\n",
              "\n",
              "        const docLinkHtml = 'Like what you see? Visit the ' +\n",
              "          '<a target=\"_blank\" href=https://colab.research.google.com/notebooks/data_table.ipynb>data table notebook</a>'\n",
              "          + ' to learn more about interactive tables.';\n",
              "        element.innerHTML = '';\n",
              "        dataTable['output_type'] = 'display_data';\n",
              "        await google.colab.output.renderOutput(dataTable, element);\n",
              "        const docLink = document.createElement('div');\n",
              "        docLink.innerHTML = docLinkHtml;\n",
              "        element.appendChild(docLink);\n",
              "      }\n",
              "    </script>\n",
              "  </div>\n",
              "\n",
              "\n",
              "<div id=\"df-059a5021-744f-43d8-abac-7be6ede55807\">\n",
              "  <button class=\"colab-df-quickchart\" onclick=\"quickchart('df-059a5021-744f-43d8-abac-7be6ede55807')\"\n",
              "            title=\"Suggest charts\"\n",
              "            style=\"display:none;\">\n",
              "\n",
              "<svg xmlns=\"http://www.w3.org/2000/svg\" height=\"24px\"viewBox=\"0 0 24 24\"\n",
              "     width=\"24px\">\n",
              "    <g>\n",
              "        <path d=\"M19 3H5c-1.1 0-2 .9-2 2v14c0 1.1.9 2 2 2h14c1.1 0 2-.9 2-2V5c0-1.1-.9-2-2-2zM9 17H7v-7h2v7zm4 0h-2V7h2v10zm4 0h-2v-4h2v4z\"/>\n",
              "    </g>\n",
              "</svg>\n",
              "  </button>\n",
              "\n",
              "<style>\n",
              "  .colab-df-quickchart {\n",
              "      --bg-color: #E8F0FE;\n",
              "      --fill-color: #1967D2;\n",
              "      --hover-bg-color: #E2EBFA;\n",
              "      --hover-fill-color: #174EA6;\n",
              "      --disabled-fill-color: #AAA;\n",
              "      --disabled-bg-color: #DDD;\n",
              "  }\n",
              "\n",
              "  [theme=dark] .colab-df-quickchart {\n",
              "      --bg-color: #3B4455;\n",
              "      --fill-color: #D2E3FC;\n",
              "      --hover-bg-color: #434B5C;\n",
              "      --hover-fill-color: #FFFFFF;\n",
              "      --disabled-bg-color: #3B4455;\n",
              "      --disabled-fill-color: #666;\n",
              "  }\n",
              "\n",
              "  .colab-df-quickchart {\n",
              "    background-color: var(--bg-color);\n",
              "    border: none;\n",
              "    border-radius: 50%;\n",
              "    cursor: pointer;\n",
              "    display: none;\n",
              "    fill: var(--fill-color);\n",
              "    height: 32px;\n",
              "    padding: 0;\n",
              "    width: 32px;\n",
              "  }\n",
              "\n",
              "  .colab-df-quickchart:hover {\n",
              "    background-color: var(--hover-bg-color);\n",
              "    box-shadow: 0 1px 2px rgba(60, 64, 67, 0.3), 0 1px 3px 1px rgba(60, 64, 67, 0.15);\n",
              "    fill: var(--button-hover-fill-color);\n",
              "  }\n",
              "\n",
              "  .colab-df-quickchart-complete:disabled,\n",
              "  .colab-df-quickchart-complete:disabled:hover {\n",
              "    background-color: var(--disabled-bg-color);\n",
              "    fill: var(--disabled-fill-color);\n",
              "    box-shadow: none;\n",
              "  }\n",
              "\n",
              "  .colab-df-spinner {\n",
              "    border: 2px solid var(--fill-color);\n",
              "    border-color: transparent;\n",
              "    border-bottom-color: var(--fill-color);\n",
              "    animation:\n",
              "      spin 1s steps(1) infinite;\n",
              "  }\n",
              "\n",
              "  @keyframes spin {\n",
              "    0% {\n",
              "      border-color: transparent;\n",
              "      border-bottom-color: var(--fill-color);\n",
              "      border-left-color: var(--fill-color);\n",
              "    }\n",
              "    20% {\n",
              "      border-color: transparent;\n",
              "      border-left-color: var(--fill-color);\n",
              "      border-top-color: var(--fill-color);\n",
              "    }\n",
              "    30% {\n",
              "      border-color: transparent;\n",
              "      border-left-color: var(--fill-color);\n",
              "      border-top-color: var(--fill-color);\n",
              "      border-right-color: var(--fill-color);\n",
              "    }\n",
              "    40% {\n",
              "      border-color: transparent;\n",
              "      border-right-color: var(--fill-color);\n",
              "      border-top-color: var(--fill-color);\n",
              "    }\n",
              "    60% {\n",
              "      border-color: transparent;\n",
              "      border-right-color: var(--fill-color);\n",
              "    }\n",
              "    80% {\n",
              "      border-color: transparent;\n",
              "      border-right-color: var(--fill-color);\n",
              "      border-bottom-color: var(--fill-color);\n",
              "    }\n",
              "    90% {\n",
              "      border-color: transparent;\n",
              "      border-bottom-color: var(--fill-color);\n",
              "    }\n",
              "  }\n",
              "</style>\n",
              "\n",
              "  <script>\n",
              "    async function quickchart(key) {\n",
              "      const quickchartButtonEl =\n",
              "        document.querySelector('#' + key + ' button');\n",
              "      quickchartButtonEl.disabled = true;  // To prevent multiple clicks.\n",
              "      quickchartButtonEl.classList.add('colab-df-spinner');\n",
              "      try {\n",
              "        const charts = await google.colab.kernel.invokeFunction(\n",
              "            'suggestCharts', [key], {});\n",
              "      } catch (error) {\n",
              "        console.error('Error during call to suggestCharts:', error);\n",
              "      }\n",
              "      quickchartButtonEl.classList.remove('colab-df-spinner');\n",
              "      quickchartButtonEl.classList.add('colab-df-quickchart-complete');\n",
              "    }\n",
              "    (() => {\n",
              "      let quickchartButtonEl =\n",
              "        document.querySelector('#df-059a5021-744f-43d8-abac-7be6ede55807 button');\n",
              "      quickchartButtonEl.style.display =\n",
              "        google.colab.kernel.accessAllowed ? 'block' : 'none';\n",
              "    })();\n",
              "  </script>\n",
              "</div>\n",
              "    </div>\n",
              "  </div>\n"
            ],
            "application/vnd.google.colaboratory.intrinsic+json": {
              "type": "dataframe",
              "summary": "{\n  \"name\": \"raw_df_day\",\n  \"rows\": 8,\n  \"fields\": [\n    {\n      \"column\": \"instant\",\n      \"properties\": {\n        \"dtype\": \"number\",\n        \"std\": 263.151210562102,\n        \"min\": 1.0,\n        \"max\": 731.0,\n        \"num_unique_values\": 6,\n        \"samples\": [\n          731.0,\n          366.0,\n          548.5\n        ],\n        \"semantic_type\": \"\",\n        \"description\": \"\"\n      }\n    },\n    {\n      \"column\": \"season\",\n      \"properties\": {\n        \"dtype\": \"number\",\n        \"std\": 257.61068803932375,\n        \"min\": 1.0,\n        \"max\": 731.0,\n        \"num_unique_values\": 7,\n        \"samples\": [\n          731.0,\n          2.496580027359781,\n          3.0\n        ],\n        \"semantic_type\": \"\",\n        \"description\": \"\"\n      }\n    },\n    {\n      \"column\": \"yr\",\n      \"properties\": {\n        \"dtype\": \"number\",\n        \"std\": 258.24578202109643,\n        \"min\": 0.0,\n        \"max\": 731.0,\n        \"num_unique_values\": 5,\n        \"samples\": [\n          0.5006839945280438,\n          1.0,\n          0.5003418803818264\n        ],\n        \"semantic_type\": \"\",\n        \"description\": \"\"\n      }\n    },\n    {\n      \"column\": \"mnth\",\n      \"properties\": {\n        \"dtype\": \"number\",\n        \"std\": 256.251208377565,\n        \"min\": 1.0,\n        \"max\": 731.0,\n        \"num_unique_values\": 8,\n        \"samples\": [\n          6.519835841313269,\n          7.0,\n          731.0\n        ],\n        \"semantic_type\": \"\",\n        \"description\": \"\"\n      }\n    },\n    {\n      \"column\": \"holiday\",\n      \"properties\": {\n        \"dtype\": \"number\",\n        \"std\": 258.38735524952386,\n        \"min\": 0.0,\n        \"max\": 731.0,\n        \"num_unique_values\": 5,\n        \"samples\": [\n          0.028727770177838577,\n          1.0,\n          0.16715474262247382\n        ],\n        \"semantic_type\": \"\",\n        \"description\": \"\"\n      }\n    },\n    {\n      \"column\": \"weekday\",\n      \"properties\": {\n        \"dtype\": \"number\",\n        \"std\": 257.4447215833011,\n        \"min\": 0.0,\n        \"max\": 731.0,\n        \"num_unique_values\": 8,\n        \"samples\": [\n          2.997264021887825,\n          3.0,\n          731.0\n        ],\n        \"semantic_type\": \"\",\n        \"description\": \"\"\n      }\n    },\n    {\n      \"column\": \"workingday\",\n      \"properties\": {\n        \"dtype\": \"number\",\n        \"std\": 258.23829965962693,\n        \"min\": 0.0,\n        \"max\": 731.0,\n        \"num_unique_values\": 5,\n        \"samples\": [\n          0.6839945280437757,\n          1.0,\n          0.4652333866777036\n        ],\n        \"semantic_type\": \"\",\n        \"description\": \"\"\n      }\n    },\n    {\n      \"column\": \"weathersit\",\n      \"properties\": {\n        \"dtype\": \"number\",\n        \"std\": 257.9466136384816,\n        \"min\": 0.5448943419593665,\n        \"max\": 731.0,\n        \"num_unique_values\": 6,\n        \"samples\": [\n          731.0,\n          1.3953488372093024,\n          3.0\n        ],\n        \"semantic_type\": \"\",\n        \"description\": \"\"\n      }\n    },\n    {\n      \"column\": \"temp\",\n      \"properties\": {\n        \"dtype\": \"number\",\n        \"std\": 258.2915817037472,\n        \"min\": 0.0591304,\n        \"max\": 731.0,\n        \"num_unique_values\": 8,\n        \"samples\": [\n          0.495384788508892,\n          0.498333,\n          731.0\n        ],\n        \"semantic_type\": \"\",\n        \"description\": \"\"\n      }\n    },\n    {\n      \"column\": \"atemp\",\n      \"properties\": {\n        \"dtype\": \"number\",\n        \"std\": 258.2966006263006,\n        \"min\": 0.0790696,\n        \"max\": 731.0,\n        \"num_unique_values\": 8,\n        \"samples\": [\n          0.47435398864569084,\n          0.486733,\n          731.0\n        ],\n        \"semantic_type\": \"\",\n        \"description\": \"\"\n      }\n    },\n    {\n      \"column\": \"hum\",\n      \"properties\": {\n        \"dtype\": \"number\",\n        \"std\": 258.26489554668353,\n        \"min\": 0.0,\n        \"max\": 731.0,\n        \"num_unique_values\": 8,\n        \"samples\": [\n          0.6278940629274967,\n          0.626667,\n          731.0\n        ],\n        \"semantic_type\": \"\",\n        \"description\": \"\"\n      }\n    },\n    {\n      \"column\": \"windspeed\",\n      \"properties\": {\n        \"dtype\": \"number\",\n        \"std\": 258.37953633824185,\n        \"min\": 0.0223917,\n        \"max\": 731.0,\n        \"num_unique_values\": 8,\n        \"samples\": [\n          0.190486211627907,\n          0.180975,\n          731.0\n        ],\n        \"semantic_type\": \"\",\n        \"description\": \"\"\n      }\n    },\n    {\n      \"column\": \"casual\",\n      \"properties\": {\n        \"dtype\": \"number\",\n        \"std\": 1038.7465238878817,\n        \"min\": 2.0,\n        \"max\": 3410.0,\n        \"num_unique_values\": 8,\n        \"samples\": [\n          848.1764705882352,\n          713.0,\n          731.0\n        ],\n        \"semantic_type\": \"\",\n        \"description\": \"\"\n      }\n    },\n    {\n      \"column\": \"registered\",\n      \"properties\": {\n        \"dtype\": \"number\",\n        \"std\": 2266.131168472822,\n        \"min\": 20.0,\n        \"max\": 6946.0,\n        \"num_unique_values\": 8,\n        \"samples\": [\n          3656.172366621067,\n          3662.0,\n          731.0\n        ],\n        \"semantic_type\": \"\",\n        \"description\": \"\"\n      }\n    },\n    {\n      \"column\": \"cnt\",\n      \"properties\": {\n        \"dtype\": \"number\",\n        \"std\": 2862.2176347716063,\n        \"min\": 22.0,\n        \"max\": 8714.0,\n        \"num_unique_values\": 8,\n        \"samples\": [\n          4504.3488372093025,\n          4548.0,\n          731.0\n        ],\n        \"semantic_type\": \"\",\n        \"description\": \"\"\n      }\n    }\n  ]\n}"
            }
          },
          "metadata": {},
          "execution_count": 296
        }
      ]
    },
    {
      "cell_type": "code",
      "source": [
        "raw_df_hour.describe()"
      ],
      "metadata": {
        "colab": {
          "base_uri": "https://localhost:8080/",
          "height": 301
        },
        "id": "NYJyQgJwFPAn",
        "outputId": "450a5153-14f9-4175-ae0b-0c7837e90f5a"
      },
      "execution_count": 297,
      "outputs": [
        {
          "output_type": "execute_result",
          "data": {
            "text/plain": [
              "       instant   season       yr     mnth       hr  holiday  weekday  \\\n",
              "count 17379.00 17379.00 17379.00 17379.00 17379.00 17379.00 17379.00   \n",
              "mean   8690.00     2.50     0.50     6.54    11.55     0.03     3.00   \n",
              "std    5017.03     1.11     0.50     3.44     6.91     0.17     2.01   \n",
              "min       1.00     1.00     0.00     1.00     0.00     0.00     0.00   \n",
              "25%    4345.50     2.00     0.00     4.00     6.00     0.00     1.00   \n",
              "50%    8690.00     3.00     1.00     7.00    12.00     0.00     3.00   \n",
              "75%   13034.50     3.00     1.00    10.00    18.00     0.00     5.00   \n",
              "max   17379.00     4.00     1.00    12.00    23.00     1.00     6.00   \n",
              "\n",
              "       workingday  weathersit     temp    atemp      hum  windspeed   casual  \\\n",
              "count    17379.00    17379.00 17379.00 17379.00 17379.00   17379.00 17379.00   \n",
              "mean         0.68        1.43     0.50     0.48     0.63       0.19    35.68   \n",
              "std          0.47        0.64     0.19     0.17     0.19       0.12    49.31   \n",
              "min          0.00        1.00     0.02     0.00     0.00       0.00     0.00   \n",
              "25%          0.00        1.00     0.34     0.33     0.48       0.10     4.00   \n",
              "50%          1.00        1.00     0.50     0.48     0.63       0.19    17.00   \n",
              "75%          1.00        2.00     0.66     0.62     0.78       0.25    48.00   \n",
              "max          1.00        4.00     1.00     1.00     1.00       0.85   367.00   \n",
              "\n",
              "       registered      cnt  \n",
              "count    17379.00 17379.00  \n",
              "mean       153.79   189.46  \n",
              "std        151.36   181.39  \n",
              "min          0.00     1.00  \n",
              "25%         34.00    40.00  \n",
              "50%        115.00   142.00  \n",
              "75%        220.00   281.00  \n",
              "max        886.00   977.00  "
            ],
            "text/html": [
              "\n",
              "  <div id=\"df-138a1064-a1e5-47c4-a3a1-62d0babdf0cd\" class=\"colab-df-container\">\n",
              "    <div>\n",
              "<style scoped>\n",
              "    .dataframe tbody tr th:only-of-type {\n",
              "        vertical-align: middle;\n",
              "    }\n",
              "\n",
              "    .dataframe tbody tr th {\n",
              "        vertical-align: top;\n",
              "    }\n",
              "\n",
              "    .dataframe thead th {\n",
              "        text-align: right;\n",
              "    }\n",
              "</style>\n",
              "<table border=\"1\" class=\"dataframe\">\n",
              "  <thead>\n",
              "    <tr style=\"text-align: right;\">\n",
              "      <th></th>\n",
              "      <th>instant</th>\n",
              "      <th>season</th>\n",
              "      <th>yr</th>\n",
              "      <th>mnth</th>\n",
              "      <th>hr</th>\n",
              "      <th>holiday</th>\n",
              "      <th>weekday</th>\n",
              "      <th>workingday</th>\n",
              "      <th>weathersit</th>\n",
              "      <th>temp</th>\n",
              "      <th>atemp</th>\n",
              "      <th>hum</th>\n",
              "      <th>windspeed</th>\n",
              "      <th>casual</th>\n",
              "      <th>registered</th>\n",
              "      <th>cnt</th>\n",
              "    </tr>\n",
              "  </thead>\n",
              "  <tbody>\n",
              "    <tr>\n",
              "      <th>count</th>\n",
              "      <td>17379.00</td>\n",
              "      <td>17379.00</td>\n",
              "      <td>17379.00</td>\n",
              "      <td>17379.00</td>\n",
              "      <td>17379.00</td>\n",
              "      <td>17379.00</td>\n",
              "      <td>17379.00</td>\n",
              "      <td>17379.00</td>\n",
              "      <td>17379.00</td>\n",
              "      <td>17379.00</td>\n",
              "      <td>17379.00</td>\n",
              "      <td>17379.00</td>\n",
              "      <td>17379.00</td>\n",
              "      <td>17379.00</td>\n",
              "      <td>17379.00</td>\n",
              "      <td>17379.00</td>\n",
              "    </tr>\n",
              "    <tr>\n",
              "      <th>mean</th>\n",
              "      <td>8690.00</td>\n",
              "      <td>2.50</td>\n",
              "      <td>0.50</td>\n",
              "      <td>6.54</td>\n",
              "      <td>11.55</td>\n",
              "      <td>0.03</td>\n",
              "      <td>3.00</td>\n",
              "      <td>0.68</td>\n",
              "      <td>1.43</td>\n",
              "      <td>0.50</td>\n",
              "      <td>0.48</td>\n",
              "      <td>0.63</td>\n",
              "      <td>0.19</td>\n",
              "      <td>35.68</td>\n",
              "      <td>153.79</td>\n",
              "      <td>189.46</td>\n",
              "    </tr>\n",
              "    <tr>\n",
              "      <th>std</th>\n",
              "      <td>5017.03</td>\n",
              "      <td>1.11</td>\n",
              "      <td>0.50</td>\n",
              "      <td>3.44</td>\n",
              "      <td>6.91</td>\n",
              "      <td>0.17</td>\n",
              "      <td>2.01</td>\n",
              "      <td>0.47</td>\n",
              "      <td>0.64</td>\n",
              "      <td>0.19</td>\n",
              "      <td>0.17</td>\n",
              "      <td>0.19</td>\n",
              "      <td>0.12</td>\n",
              "      <td>49.31</td>\n",
              "      <td>151.36</td>\n",
              "      <td>181.39</td>\n",
              "    </tr>\n",
              "    <tr>\n",
              "      <th>min</th>\n",
              "      <td>1.00</td>\n",
              "      <td>1.00</td>\n",
              "      <td>0.00</td>\n",
              "      <td>1.00</td>\n",
              "      <td>0.00</td>\n",
              "      <td>0.00</td>\n",
              "      <td>0.00</td>\n",
              "      <td>0.00</td>\n",
              "      <td>1.00</td>\n",
              "      <td>0.02</td>\n",
              "      <td>0.00</td>\n",
              "      <td>0.00</td>\n",
              "      <td>0.00</td>\n",
              "      <td>0.00</td>\n",
              "      <td>0.00</td>\n",
              "      <td>1.00</td>\n",
              "    </tr>\n",
              "    <tr>\n",
              "      <th>25%</th>\n",
              "      <td>4345.50</td>\n",
              "      <td>2.00</td>\n",
              "      <td>0.00</td>\n",
              "      <td>4.00</td>\n",
              "      <td>6.00</td>\n",
              "      <td>0.00</td>\n",
              "      <td>1.00</td>\n",
              "      <td>0.00</td>\n",
              "      <td>1.00</td>\n",
              "      <td>0.34</td>\n",
              "      <td>0.33</td>\n",
              "      <td>0.48</td>\n",
              "      <td>0.10</td>\n",
              "      <td>4.00</td>\n",
              "      <td>34.00</td>\n",
              "      <td>40.00</td>\n",
              "    </tr>\n",
              "    <tr>\n",
              "      <th>50%</th>\n",
              "      <td>8690.00</td>\n",
              "      <td>3.00</td>\n",
              "      <td>1.00</td>\n",
              "      <td>7.00</td>\n",
              "      <td>12.00</td>\n",
              "      <td>0.00</td>\n",
              "      <td>3.00</td>\n",
              "      <td>1.00</td>\n",
              "      <td>1.00</td>\n",
              "      <td>0.50</td>\n",
              "      <td>0.48</td>\n",
              "      <td>0.63</td>\n",
              "      <td>0.19</td>\n",
              "      <td>17.00</td>\n",
              "      <td>115.00</td>\n",
              "      <td>142.00</td>\n",
              "    </tr>\n",
              "    <tr>\n",
              "      <th>75%</th>\n",
              "      <td>13034.50</td>\n",
              "      <td>3.00</td>\n",
              "      <td>1.00</td>\n",
              "      <td>10.00</td>\n",
              "      <td>18.00</td>\n",
              "      <td>0.00</td>\n",
              "      <td>5.00</td>\n",
              "      <td>1.00</td>\n",
              "      <td>2.00</td>\n",
              "      <td>0.66</td>\n",
              "      <td>0.62</td>\n",
              "      <td>0.78</td>\n",
              "      <td>0.25</td>\n",
              "      <td>48.00</td>\n",
              "      <td>220.00</td>\n",
              "      <td>281.00</td>\n",
              "    </tr>\n",
              "    <tr>\n",
              "      <th>max</th>\n",
              "      <td>17379.00</td>\n",
              "      <td>4.00</td>\n",
              "      <td>1.00</td>\n",
              "      <td>12.00</td>\n",
              "      <td>23.00</td>\n",
              "      <td>1.00</td>\n",
              "      <td>6.00</td>\n",
              "      <td>1.00</td>\n",
              "      <td>4.00</td>\n",
              "      <td>1.00</td>\n",
              "      <td>1.00</td>\n",
              "      <td>1.00</td>\n",
              "      <td>0.85</td>\n",
              "      <td>367.00</td>\n",
              "      <td>886.00</td>\n",
              "      <td>977.00</td>\n",
              "    </tr>\n",
              "  </tbody>\n",
              "</table>\n",
              "</div>\n",
              "    <div class=\"colab-df-buttons\">\n",
              "\n",
              "  <div class=\"colab-df-container\">\n",
              "    <button class=\"colab-df-convert\" onclick=\"convertToInteractive('df-138a1064-a1e5-47c4-a3a1-62d0babdf0cd')\"\n",
              "            title=\"Convert this dataframe to an interactive table.\"\n",
              "            style=\"display:none;\">\n",
              "\n",
              "  <svg xmlns=\"http://www.w3.org/2000/svg\" height=\"24px\" viewBox=\"0 -960 960 960\">\n",
              "    <path d=\"M120-120v-720h720v720H120Zm60-500h600v-160H180v160Zm220 220h160v-160H400v160Zm0 220h160v-160H400v160ZM180-400h160v-160H180v160Zm440 0h160v-160H620v160ZM180-180h160v-160H180v160Zm440 0h160v-160H620v160Z\"/>\n",
              "  </svg>\n",
              "    </button>\n",
              "\n",
              "  <style>\n",
              "    .colab-df-container {\n",
              "      display:flex;\n",
              "      gap: 12px;\n",
              "    }\n",
              "\n",
              "    .colab-df-convert {\n",
              "      background-color: #E8F0FE;\n",
              "      border: none;\n",
              "      border-radius: 50%;\n",
              "      cursor: pointer;\n",
              "      display: none;\n",
              "      fill: #1967D2;\n",
              "      height: 32px;\n",
              "      padding: 0 0 0 0;\n",
              "      width: 32px;\n",
              "    }\n",
              "\n",
              "    .colab-df-convert:hover {\n",
              "      background-color: #E2EBFA;\n",
              "      box-shadow: 0px 1px 2px rgba(60, 64, 67, 0.3), 0px 1px 3px 1px rgba(60, 64, 67, 0.15);\n",
              "      fill: #174EA6;\n",
              "    }\n",
              "\n",
              "    .colab-df-buttons div {\n",
              "      margin-bottom: 4px;\n",
              "    }\n",
              "\n",
              "    [theme=dark] .colab-df-convert {\n",
              "      background-color: #3B4455;\n",
              "      fill: #D2E3FC;\n",
              "    }\n",
              "\n",
              "    [theme=dark] .colab-df-convert:hover {\n",
              "      background-color: #434B5C;\n",
              "      box-shadow: 0px 1px 3px 1px rgba(0, 0, 0, 0.15);\n",
              "      filter: drop-shadow(0px 1px 2px rgba(0, 0, 0, 0.3));\n",
              "      fill: #FFFFFF;\n",
              "    }\n",
              "  </style>\n",
              "\n",
              "    <script>\n",
              "      const buttonEl =\n",
              "        document.querySelector('#df-138a1064-a1e5-47c4-a3a1-62d0babdf0cd button.colab-df-convert');\n",
              "      buttonEl.style.display =\n",
              "        google.colab.kernel.accessAllowed ? 'block' : 'none';\n",
              "\n",
              "      async function convertToInteractive(key) {\n",
              "        const element = document.querySelector('#df-138a1064-a1e5-47c4-a3a1-62d0babdf0cd');\n",
              "        const dataTable =\n",
              "          await google.colab.kernel.invokeFunction('convertToInteractive',\n",
              "                                                    [key], {});\n",
              "        if (!dataTable) return;\n",
              "\n",
              "        const docLinkHtml = 'Like what you see? Visit the ' +\n",
              "          '<a target=\"_blank\" href=https://colab.research.google.com/notebooks/data_table.ipynb>data table notebook</a>'\n",
              "          + ' to learn more about interactive tables.';\n",
              "        element.innerHTML = '';\n",
              "        dataTable['output_type'] = 'display_data';\n",
              "        await google.colab.output.renderOutput(dataTable, element);\n",
              "        const docLink = document.createElement('div');\n",
              "        docLink.innerHTML = docLinkHtml;\n",
              "        element.appendChild(docLink);\n",
              "      }\n",
              "    </script>\n",
              "  </div>\n",
              "\n",
              "\n",
              "<div id=\"df-c116c61f-28b5-4032-b47c-121ea447467a\">\n",
              "  <button class=\"colab-df-quickchart\" onclick=\"quickchart('df-c116c61f-28b5-4032-b47c-121ea447467a')\"\n",
              "            title=\"Suggest charts\"\n",
              "            style=\"display:none;\">\n",
              "\n",
              "<svg xmlns=\"http://www.w3.org/2000/svg\" height=\"24px\"viewBox=\"0 0 24 24\"\n",
              "     width=\"24px\">\n",
              "    <g>\n",
              "        <path d=\"M19 3H5c-1.1 0-2 .9-2 2v14c0 1.1.9 2 2 2h14c1.1 0 2-.9 2-2V5c0-1.1-.9-2-2-2zM9 17H7v-7h2v7zm4 0h-2V7h2v10zm4 0h-2v-4h2v4z\"/>\n",
              "    </g>\n",
              "</svg>\n",
              "  </button>\n",
              "\n",
              "<style>\n",
              "  .colab-df-quickchart {\n",
              "      --bg-color: #E8F0FE;\n",
              "      --fill-color: #1967D2;\n",
              "      --hover-bg-color: #E2EBFA;\n",
              "      --hover-fill-color: #174EA6;\n",
              "      --disabled-fill-color: #AAA;\n",
              "      --disabled-bg-color: #DDD;\n",
              "  }\n",
              "\n",
              "  [theme=dark] .colab-df-quickchart {\n",
              "      --bg-color: #3B4455;\n",
              "      --fill-color: #D2E3FC;\n",
              "      --hover-bg-color: #434B5C;\n",
              "      --hover-fill-color: #FFFFFF;\n",
              "      --disabled-bg-color: #3B4455;\n",
              "      --disabled-fill-color: #666;\n",
              "  }\n",
              "\n",
              "  .colab-df-quickchart {\n",
              "    background-color: var(--bg-color);\n",
              "    border: none;\n",
              "    border-radius: 50%;\n",
              "    cursor: pointer;\n",
              "    display: none;\n",
              "    fill: var(--fill-color);\n",
              "    height: 32px;\n",
              "    padding: 0;\n",
              "    width: 32px;\n",
              "  }\n",
              "\n",
              "  .colab-df-quickchart:hover {\n",
              "    background-color: var(--hover-bg-color);\n",
              "    box-shadow: 0 1px 2px rgba(60, 64, 67, 0.3), 0 1px 3px 1px rgba(60, 64, 67, 0.15);\n",
              "    fill: var(--button-hover-fill-color);\n",
              "  }\n",
              "\n",
              "  .colab-df-quickchart-complete:disabled,\n",
              "  .colab-df-quickchart-complete:disabled:hover {\n",
              "    background-color: var(--disabled-bg-color);\n",
              "    fill: var(--disabled-fill-color);\n",
              "    box-shadow: none;\n",
              "  }\n",
              "\n",
              "  .colab-df-spinner {\n",
              "    border: 2px solid var(--fill-color);\n",
              "    border-color: transparent;\n",
              "    border-bottom-color: var(--fill-color);\n",
              "    animation:\n",
              "      spin 1s steps(1) infinite;\n",
              "  }\n",
              "\n",
              "  @keyframes spin {\n",
              "    0% {\n",
              "      border-color: transparent;\n",
              "      border-bottom-color: var(--fill-color);\n",
              "      border-left-color: var(--fill-color);\n",
              "    }\n",
              "    20% {\n",
              "      border-color: transparent;\n",
              "      border-left-color: var(--fill-color);\n",
              "      border-top-color: var(--fill-color);\n",
              "    }\n",
              "    30% {\n",
              "      border-color: transparent;\n",
              "      border-left-color: var(--fill-color);\n",
              "      border-top-color: var(--fill-color);\n",
              "      border-right-color: var(--fill-color);\n",
              "    }\n",
              "    40% {\n",
              "      border-color: transparent;\n",
              "      border-right-color: var(--fill-color);\n",
              "      border-top-color: var(--fill-color);\n",
              "    }\n",
              "    60% {\n",
              "      border-color: transparent;\n",
              "      border-right-color: var(--fill-color);\n",
              "    }\n",
              "    80% {\n",
              "      border-color: transparent;\n",
              "      border-right-color: var(--fill-color);\n",
              "      border-bottom-color: var(--fill-color);\n",
              "    }\n",
              "    90% {\n",
              "      border-color: transparent;\n",
              "      border-bottom-color: var(--fill-color);\n",
              "    }\n",
              "  }\n",
              "</style>\n",
              "\n",
              "  <script>\n",
              "    async function quickchart(key) {\n",
              "      const quickchartButtonEl =\n",
              "        document.querySelector('#' + key + ' button');\n",
              "      quickchartButtonEl.disabled = true;  // To prevent multiple clicks.\n",
              "      quickchartButtonEl.classList.add('colab-df-spinner');\n",
              "      try {\n",
              "        const charts = await google.colab.kernel.invokeFunction(\n",
              "            'suggestCharts', [key], {});\n",
              "      } catch (error) {\n",
              "        console.error('Error during call to suggestCharts:', error);\n",
              "      }\n",
              "      quickchartButtonEl.classList.remove('colab-df-spinner');\n",
              "      quickchartButtonEl.classList.add('colab-df-quickchart-complete');\n",
              "    }\n",
              "    (() => {\n",
              "      let quickchartButtonEl =\n",
              "        document.querySelector('#df-c116c61f-28b5-4032-b47c-121ea447467a button');\n",
              "      quickchartButtonEl.style.display =\n",
              "        google.colab.kernel.accessAllowed ? 'block' : 'none';\n",
              "    })();\n",
              "  </script>\n",
              "</div>\n",
              "    </div>\n",
              "  </div>\n"
            ],
            "application/vnd.google.colaboratory.intrinsic+json": {
              "type": "dataframe",
              "summary": "{\n  \"name\": \"raw_df_hour\",\n  \"rows\": 8,\n  \"fields\": [\n    {\n      \"column\": \"instant\",\n      \"properties\": {\n        \"dtype\": \"number\",\n        \"std\": 6263.170885696781,\n        \"min\": 1.0,\n        \"max\": 17379.0,\n        \"num_unique_values\": 6,\n        \"samples\": [\n          17379.0,\n          8690.0,\n          13034.5\n        ],\n        \"semantic_type\": \"\",\n        \"description\": \"\"\n      }\n    },\n    {\n      \"column\": \"season\",\n      \"properties\": {\n        \"dtype\": \"number\",\n        \"std\": 6143.565598544762,\n        \"min\": 1.0,\n        \"max\": 17379.0,\n        \"num_unique_values\": 7,\n        \"samples\": [\n          17379.0,\n          2.5016399102364923,\n          3.0\n        ],\n        \"semantic_type\": \"\",\n        \"description\": \"\"\n      }\n    },\n    {\n      \"column\": \"yr\",\n      \"properties\": {\n        \"dtype\": \"number\",\n        \"std\": 6144.202229000585,\n        \"min\": 0.0,\n        \"max\": 17379.0,\n        \"num_unique_values\": 5,\n        \"samples\": [\n          0.5025605615973301,\n          1.0,\n          0.5000078290910197\n        ],\n        \"semantic_type\": \"\",\n        \"description\": \"\"\n      }\n    },\n    {\n      \"column\": \"mnth\",\n      \"properties\": {\n        \"dtype\": \"number\",\n        \"std\": 6142.184250617928,\n        \"min\": 1.0,\n        \"max\": 17379.0,\n        \"num_unique_values\": 8,\n        \"samples\": [\n          6.537775476149376,\n          7.0,\n          17379.0\n        ],\n        \"semantic_type\": \"\",\n        \"description\": \"\"\n      }\n    },\n    {\n      \"column\": \"hr\",\n      \"properties\": {\n        \"dtype\": \"number\",\n        \"std\": 6140.496148184537,\n        \"min\": 0.0,\n        \"max\": 17379.0,\n        \"num_unique_values\": 8,\n        \"samples\": [\n          11.546751826917545,\n          12.0,\n          17379.0\n        ],\n        \"semantic_type\": \"\",\n        \"description\": \"\"\n      }\n    },\n    {\n      \"column\": \"holiday\",\n      \"properties\": {\n        \"dtype\": \"number\",\n        \"std\": 6144.34398083374,\n        \"min\": 0.0,\n        \"max\": 17379.0,\n        \"num_unique_values\": 5,\n        \"samples\": [\n          0.028770355026181024,\n          1.0,\n          0.16716527638437123\n        ],\n        \"semantic_type\": \"\",\n        \"description\": \"\"\n      }\n    },\n    {\n      \"column\": \"weekday\",\n      \"properties\": {\n        \"dtype\": \"number\",\n        \"std\": 6143.394057236404,\n        \"min\": 0.0,\n        \"max\": 17379.0,\n        \"num_unique_values\": 8,\n        \"samples\": [\n          3.003682605443351,\n          3.0,\n          17379.0\n        ],\n        \"semantic_type\": \"\",\n        \"description\": \"\"\n      }\n    },\n    {\n      \"column\": \"workingday\",\n      \"properties\": {\n        \"dtype\": \"number\",\n        \"std\": 6144.194876084175,\n        \"min\": 0.0,\n        \"max\": 17379.0,\n        \"num_unique_values\": 5,\n        \"samples\": [\n          0.6827205247712756,\n          1.0,\n          0.46543063352388286\n        ],\n        \"semantic_type\": \"\",\n        \"description\": \"\"\n      }\n    },\n    {\n      \"column\": \"weathersit\",\n      \"properties\": {\n        \"dtype\": \"number\",\n        \"std\": 6143.845618830189,\n        \"min\": 0.6393568777542534,\n        \"max\": 17379.0,\n        \"num_unique_values\": 6,\n        \"samples\": [\n          17379.0,\n          1.425283387997008,\n          4.0\n        ],\n        \"semantic_type\": \"\",\n        \"description\": \"\"\n      }\n    },\n    {\n      \"column\": \"temp\",\n      \"properties\": {\n        \"dtype\": \"number\",\n        \"std\": 6144.242275843299,\n        \"min\": 0.02,\n        \"max\": 17379.0,\n        \"num_unique_values\": 8,\n        \"samples\": [\n          0.4969871684216583,\n          0.5,\n          17379.0\n        ],\n        \"semantic_type\": \"\",\n        \"description\": \"\"\n      }\n    },\n    {\n      \"column\": \"atemp\",\n      \"properties\": {\n        \"dtype\": \"number\",\n        \"std\": 6144.248469131704,\n        \"min\": 0.0,\n        \"max\": 17379.0,\n        \"num_unique_values\": 8,\n        \"samples\": [\n          0.4757751021347604,\n          0.4848,\n          17379.0\n        ],\n        \"semantic_type\": \"\",\n        \"description\": \"\"\n      }\n    },\n    {\n      \"column\": \"hum\",\n      \"properties\": {\n        \"dtype\": \"number\",\n        \"std\": 6144.216991945488,\n        \"min\": 0.0,\n        \"max\": 17379.0,\n        \"num_unique_values\": 8,\n        \"samples\": [\n          0.6272288394038783,\n          0.63,\n          17379.0\n        ],\n        \"semantic_type\": \"\",\n        \"description\": \"\"\n      }\n    },\n    {\n      \"column\": \"windspeed\",\n      \"properties\": {\n        \"dtype\": \"number\",\n        \"std\": 6144.317742909861,\n        \"min\": 0.0,\n        \"max\": 17379.0,\n        \"num_unique_values\": 8,\n        \"samples\": [\n          0.1900976063064618,\n          0.194,\n          17379.0\n        ],\n        \"semantic_type\": \"\",\n        \"description\": \"\"\n      }\n    },\n    {\n      \"column\": \"casual\",\n      \"properties\": {\n        \"dtype\": \"number\",\n        \"std\": 6119.284233238239,\n        \"min\": 0.0,\n        \"max\": 17379.0,\n        \"num_unique_values\": 8,\n        \"samples\": [\n          35.67621842453536,\n          17.0,\n          17379.0\n        ],\n        \"semantic_type\": \"\",\n        \"description\": \"\"\n      }\n    },\n    {\n      \"column\": \"registered\",\n      \"properties\": {\n        \"dtype\": \"number\",\n        \"std\": 6072.038722856437,\n        \"min\": 0.0,\n        \"max\": 17379.0,\n        \"num_unique_values\": 8,\n        \"samples\": [\n          153.78686920996606,\n          115.0,\n          17379.0\n        ],\n        \"semantic_type\": \"\",\n        \"description\": \"\"\n      }\n    },\n    {\n      \"column\": \"cnt\",\n      \"properties\": {\n        \"dtype\": \"number\",\n        \"std\": 6060.617601280442,\n        \"min\": 1.0,\n        \"max\": 17379.0,\n        \"num_unique_values\": 8,\n        \"samples\": [\n          189.46308763450142,\n          142.0,\n          17379.0\n        ],\n        \"semantic_type\": \"\",\n        \"description\": \"\"\n      }\n    }\n  ]\n}"
            }
          },
          "metadata": {},
          "execution_count": 297
        }
      ]
    },
    {
      "cell_type": "markdown",
      "source": [
        "### Descriptive Analysis"
      ],
      "metadata": {
        "id": "VLQMEnZEHtCB"
      }
    },
    {
      "cell_type": "markdown",
      "source": [
        "**Day Dataset**\n",
        "\n",
        "* Data Range: The data spans over a period of 2 years with a total of 731 entries.\n",
        "* The most common season is season 2 (summer) with approximately 33.44% of the total entries, followed by season 3 (autumn) with around 25.86% of the total entries.\n",
        "* The dominant year in the data is 2012, accounting for about 50.07% of the total entries.\n",
        "* The month with the highest bike rentals is July, constituting approximately 10.38% of the total entries, while the month with the lowest bike rentals is January, contributing only about 7.79% of the total entries.\n",
        "* Holidays occur only about 2.87% of the total days in the data.\n",
        "* Approximately 68.40% of the days in the data are weekdays.\n",
        "* The average weather condition is good (weathersit = 1), indicating suitable conditions for biking.\n",
        "* The average temperature is around 0.50 (41°C), with the average perceived temperature about 0.47 (50°C), suggesting that the perceived temperature is higher than the actual temperature on average.\n",
        "* The average humidity is about 0.47 (47%), indicating a relatively high level of humidity.\n",
        "* The average wind speed is about 0.63 (67% of maximum), suggesting that the wind speed tends to be moderate.\n",
        "* The average number of casual users is around 848, while the average number of registered users is about 3656. This suggests that registered users are more dominant in bike rental usage.\n",
        "* The average total rentals amount to about 4504 per day, with significant fluctuations from day to day."
      ],
      "metadata": {
        "id": "haRYGkf8EkVh"
      }
    },
    {
      "cell_type": "markdown",
      "source": [
        "**Hour Dataset**\n",
        "\n",
        "* The dataset consists of 17,379 entries.\n",
        "* The average season is around 2.50, indicating an average season.\n",
        "Year: The average year is around 0.50, indicating the comparison between 2011 and 2012.\n",
        "* The average month is around 6.54, indicating the average month in a year.\n",
        "* The average hour is around 11.55, indicating the average hour in a day.\n",
        "Holiday: The percentage of holidays is around 0.03.\n",
        "* The average weekday is around 3.00.\n",
        "Workingday: The percentage of working days is around 0.68.\n",
        "* The average weather situation is around 1.43.\n",
        "* The average temperature is around 0.50, indicating normal average temperature.\n",
        "* The average feeling temperature is around 0.48, approaching the actual temperature.\n",
        "* The average humidity is around 0.48.\n",
        "Windspeed: The average windspeed is around 0.63.\n",
        "* The average number of casual users is around 35.68.\n",
        "* The average number of registered users is around 153.79.\n",
        "* The average total bike rentals is around 189.46."
      ],
      "metadata": {
        "id": "z23GSVvdH2xC"
      }
    },
    {
      "cell_type": "markdown",
      "source": [
        "## 4. Cleaning Data"
      ],
      "metadata": {
        "id": "fKbAxGsrJixT"
      }
    },
    {
      "cell_type": "code",
      "source": [
        "# Create a copy of the original DataFrame to preserve the integrity of the raw data.\n",
        "df_day = raw_df_day.copy()\n",
        "df_hour = raw_df_hour.copy()\n",
        "\n",
        "# Convert the 'dteday' column to datetime format using the pd.to_datetime() function.\n",
        "df_day['dteday'] = pd.to_datetime(df_day['dteday'])\n",
        "df_hour['dteday'] = pd.to_datetime(df_day['dteday'])\n",
        "\n",
        "# Display information about the 'dteday' column after converting it to datetime format.\n",
        "print('df_day[\"dteday\"] : ', df_day[\"dteday\"].dtypes)\n",
        "print('df_hour[\"dteday\"] : ', df_hour[\"dteday\"].dtypes)"
      ],
      "metadata": {
        "colab": {
          "base_uri": "https://localhost:8080/"
        },
        "id": "EuNozhJqJ6Vf",
        "outputId": "9c2e92d5-d833-449d-a966-9bd3cf215d53"
      },
      "execution_count": 298,
      "outputs": [
        {
          "output_type": "stream",
          "name": "stdout",
          "text": [
            "df_day[\"dteday\"] :  datetime64[ns]\n",
            "df_hour[\"dteday\"] :  datetime64[ns]\n"
          ]
        }
      ]
    },
    {
      "cell_type": "code",
      "source": [
        "df_day.head()"
      ],
      "metadata": {
        "colab": {
          "base_uri": "https://localhost:8080/",
          "height": 206
        },
        "id": "fp9I-nsLONlC",
        "outputId": "d061392e-5ffc-4a64-8c87-de5baaacc578"
      },
      "execution_count": 299,
      "outputs": [
        {
          "output_type": "execute_result",
          "data": {
            "text/plain": [
              "   instant     dteday  season  yr  mnth  holiday  weekday  workingday  \\\n",
              "0        1 2011-01-01       1   0     1        0        6           0   \n",
              "1        2 2011-01-02       1   0     1        0        0           0   \n",
              "2        3 2011-01-03       1   0     1        0        1           1   \n",
              "3        4 2011-01-04       1   0     1        0        2           1   \n",
              "4        5 2011-01-05       1   0     1        0        3           1   \n",
              "\n",
              "   weathersit  temp  atemp  hum  windspeed  casual  registered   cnt  \n",
              "0           2  0.34   0.36 0.81       0.16     331         654   985  \n",
              "1           2  0.36   0.35 0.70       0.25     131         670   801  \n",
              "2           1  0.20   0.19 0.44       0.25     120        1229  1349  \n",
              "3           1  0.20   0.21 0.59       0.16     108        1454  1562  \n",
              "4           1  0.23   0.23 0.44       0.19      82        1518  1600  "
            ],
            "text/html": [
              "\n",
              "  <div id=\"df-d03d361a-fd9e-44da-b6b1-6a4ba4475a7c\" class=\"colab-df-container\">\n",
              "    <div>\n",
              "<style scoped>\n",
              "    .dataframe tbody tr th:only-of-type {\n",
              "        vertical-align: middle;\n",
              "    }\n",
              "\n",
              "    .dataframe tbody tr th {\n",
              "        vertical-align: top;\n",
              "    }\n",
              "\n",
              "    .dataframe thead th {\n",
              "        text-align: right;\n",
              "    }\n",
              "</style>\n",
              "<table border=\"1\" class=\"dataframe\">\n",
              "  <thead>\n",
              "    <tr style=\"text-align: right;\">\n",
              "      <th></th>\n",
              "      <th>instant</th>\n",
              "      <th>dteday</th>\n",
              "      <th>season</th>\n",
              "      <th>yr</th>\n",
              "      <th>mnth</th>\n",
              "      <th>holiday</th>\n",
              "      <th>weekday</th>\n",
              "      <th>workingday</th>\n",
              "      <th>weathersit</th>\n",
              "      <th>temp</th>\n",
              "      <th>atemp</th>\n",
              "      <th>hum</th>\n",
              "      <th>windspeed</th>\n",
              "      <th>casual</th>\n",
              "      <th>registered</th>\n",
              "      <th>cnt</th>\n",
              "    </tr>\n",
              "  </thead>\n",
              "  <tbody>\n",
              "    <tr>\n",
              "      <th>0</th>\n",
              "      <td>1</td>\n",
              "      <td>2011-01-01</td>\n",
              "      <td>1</td>\n",
              "      <td>0</td>\n",
              "      <td>1</td>\n",
              "      <td>0</td>\n",
              "      <td>6</td>\n",
              "      <td>0</td>\n",
              "      <td>2</td>\n",
              "      <td>0.34</td>\n",
              "      <td>0.36</td>\n",
              "      <td>0.81</td>\n",
              "      <td>0.16</td>\n",
              "      <td>331</td>\n",
              "      <td>654</td>\n",
              "      <td>985</td>\n",
              "    </tr>\n",
              "    <tr>\n",
              "      <th>1</th>\n",
              "      <td>2</td>\n",
              "      <td>2011-01-02</td>\n",
              "      <td>1</td>\n",
              "      <td>0</td>\n",
              "      <td>1</td>\n",
              "      <td>0</td>\n",
              "      <td>0</td>\n",
              "      <td>0</td>\n",
              "      <td>2</td>\n",
              "      <td>0.36</td>\n",
              "      <td>0.35</td>\n",
              "      <td>0.70</td>\n",
              "      <td>0.25</td>\n",
              "      <td>131</td>\n",
              "      <td>670</td>\n",
              "      <td>801</td>\n",
              "    </tr>\n",
              "    <tr>\n",
              "      <th>2</th>\n",
              "      <td>3</td>\n",
              "      <td>2011-01-03</td>\n",
              "      <td>1</td>\n",
              "      <td>0</td>\n",
              "      <td>1</td>\n",
              "      <td>0</td>\n",
              "      <td>1</td>\n",
              "      <td>1</td>\n",
              "      <td>1</td>\n",
              "      <td>0.20</td>\n",
              "      <td>0.19</td>\n",
              "      <td>0.44</td>\n",
              "      <td>0.25</td>\n",
              "      <td>120</td>\n",
              "      <td>1229</td>\n",
              "      <td>1349</td>\n",
              "    </tr>\n",
              "    <tr>\n",
              "      <th>3</th>\n",
              "      <td>4</td>\n",
              "      <td>2011-01-04</td>\n",
              "      <td>1</td>\n",
              "      <td>0</td>\n",
              "      <td>1</td>\n",
              "      <td>0</td>\n",
              "      <td>2</td>\n",
              "      <td>1</td>\n",
              "      <td>1</td>\n",
              "      <td>0.20</td>\n",
              "      <td>0.21</td>\n",
              "      <td>0.59</td>\n",
              "      <td>0.16</td>\n",
              "      <td>108</td>\n",
              "      <td>1454</td>\n",
              "      <td>1562</td>\n",
              "    </tr>\n",
              "    <tr>\n",
              "      <th>4</th>\n",
              "      <td>5</td>\n",
              "      <td>2011-01-05</td>\n",
              "      <td>1</td>\n",
              "      <td>0</td>\n",
              "      <td>1</td>\n",
              "      <td>0</td>\n",
              "      <td>3</td>\n",
              "      <td>1</td>\n",
              "      <td>1</td>\n",
              "      <td>0.23</td>\n",
              "      <td>0.23</td>\n",
              "      <td>0.44</td>\n",
              "      <td>0.19</td>\n",
              "      <td>82</td>\n",
              "      <td>1518</td>\n",
              "      <td>1600</td>\n",
              "    </tr>\n",
              "  </tbody>\n",
              "</table>\n",
              "</div>\n",
              "    <div class=\"colab-df-buttons\">\n",
              "\n",
              "  <div class=\"colab-df-container\">\n",
              "    <button class=\"colab-df-convert\" onclick=\"convertToInteractive('df-d03d361a-fd9e-44da-b6b1-6a4ba4475a7c')\"\n",
              "            title=\"Convert this dataframe to an interactive table.\"\n",
              "            style=\"display:none;\">\n",
              "\n",
              "  <svg xmlns=\"http://www.w3.org/2000/svg\" height=\"24px\" viewBox=\"0 -960 960 960\">\n",
              "    <path d=\"M120-120v-720h720v720H120Zm60-500h600v-160H180v160Zm220 220h160v-160H400v160Zm0 220h160v-160H400v160ZM180-400h160v-160H180v160Zm440 0h160v-160H620v160ZM180-180h160v-160H180v160Zm440 0h160v-160H620v160Z\"/>\n",
              "  </svg>\n",
              "    </button>\n",
              "\n",
              "  <style>\n",
              "    .colab-df-container {\n",
              "      display:flex;\n",
              "      gap: 12px;\n",
              "    }\n",
              "\n",
              "    .colab-df-convert {\n",
              "      background-color: #E8F0FE;\n",
              "      border: none;\n",
              "      border-radius: 50%;\n",
              "      cursor: pointer;\n",
              "      display: none;\n",
              "      fill: #1967D2;\n",
              "      height: 32px;\n",
              "      padding: 0 0 0 0;\n",
              "      width: 32px;\n",
              "    }\n",
              "\n",
              "    .colab-df-convert:hover {\n",
              "      background-color: #E2EBFA;\n",
              "      box-shadow: 0px 1px 2px rgba(60, 64, 67, 0.3), 0px 1px 3px 1px rgba(60, 64, 67, 0.15);\n",
              "      fill: #174EA6;\n",
              "    }\n",
              "\n",
              "    .colab-df-buttons div {\n",
              "      margin-bottom: 4px;\n",
              "    }\n",
              "\n",
              "    [theme=dark] .colab-df-convert {\n",
              "      background-color: #3B4455;\n",
              "      fill: #D2E3FC;\n",
              "    }\n",
              "\n",
              "    [theme=dark] .colab-df-convert:hover {\n",
              "      background-color: #434B5C;\n",
              "      box-shadow: 0px 1px 3px 1px rgba(0, 0, 0, 0.15);\n",
              "      filter: drop-shadow(0px 1px 2px rgba(0, 0, 0, 0.3));\n",
              "      fill: #FFFFFF;\n",
              "    }\n",
              "  </style>\n",
              "\n",
              "    <script>\n",
              "      const buttonEl =\n",
              "        document.querySelector('#df-d03d361a-fd9e-44da-b6b1-6a4ba4475a7c button.colab-df-convert');\n",
              "      buttonEl.style.display =\n",
              "        google.colab.kernel.accessAllowed ? 'block' : 'none';\n",
              "\n",
              "      async function convertToInteractive(key) {\n",
              "        const element = document.querySelector('#df-d03d361a-fd9e-44da-b6b1-6a4ba4475a7c');\n",
              "        const dataTable =\n",
              "          await google.colab.kernel.invokeFunction('convertToInteractive',\n",
              "                                                    [key], {});\n",
              "        if (!dataTable) return;\n",
              "\n",
              "        const docLinkHtml = 'Like what you see? Visit the ' +\n",
              "          '<a target=\"_blank\" href=https://colab.research.google.com/notebooks/data_table.ipynb>data table notebook</a>'\n",
              "          + ' to learn more about interactive tables.';\n",
              "        element.innerHTML = '';\n",
              "        dataTable['output_type'] = 'display_data';\n",
              "        await google.colab.output.renderOutput(dataTable, element);\n",
              "        const docLink = document.createElement('div');\n",
              "        docLink.innerHTML = docLinkHtml;\n",
              "        element.appendChild(docLink);\n",
              "      }\n",
              "    </script>\n",
              "  </div>\n",
              "\n",
              "\n",
              "<div id=\"df-59381fcd-7d46-44b0-b09b-11de5b20740d\">\n",
              "  <button class=\"colab-df-quickchart\" onclick=\"quickchart('df-59381fcd-7d46-44b0-b09b-11de5b20740d')\"\n",
              "            title=\"Suggest charts\"\n",
              "            style=\"display:none;\">\n",
              "\n",
              "<svg xmlns=\"http://www.w3.org/2000/svg\" height=\"24px\"viewBox=\"0 0 24 24\"\n",
              "     width=\"24px\">\n",
              "    <g>\n",
              "        <path d=\"M19 3H5c-1.1 0-2 .9-2 2v14c0 1.1.9 2 2 2h14c1.1 0 2-.9 2-2V5c0-1.1-.9-2-2-2zM9 17H7v-7h2v7zm4 0h-2V7h2v10zm4 0h-2v-4h2v4z\"/>\n",
              "    </g>\n",
              "</svg>\n",
              "  </button>\n",
              "\n",
              "<style>\n",
              "  .colab-df-quickchart {\n",
              "      --bg-color: #E8F0FE;\n",
              "      --fill-color: #1967D2;\n",
              "      --hover-bg-color: #E2EBFA;\n",
              "      --hover-fill-color: #174EA6;\n",
              "      --disabled-fill-color: #AAA;\n",
              "      --disabled-bg-color: #DDD;\n",
              "  }\n",
              "\n",
              "  [theme=dark] .colab-df-quickchart {\n",
              "      --bg-color: #3B4455;\n",
              "      --fill-color: #D2E3FC;\n",
              "      --hover-bg-color: #434B5C;\n",
              "      --hover-fill-color: #FFFFFF;\n",
              "      --disabled-bg-color: #3B4455;\n",
              "      --disabled-fill-color: #666;\n",
              "  }\n",
              "\n",
              "  .colab-df-quickchart {\n",
              "    background-color: var(--bg-color);\n",
              "    border: none;\n",
              "    border-radius: 50%;\n",
              "    cursor: pointer;\n",
              "    display: none;\n",
              "    fill: var(--fill-color);\n",
              "    height: 32px;\n",
              "    padding: 0;\n",
              "    width: 32px;\n",
              "  }\n",
              "\n",
              "  .colab-df-quickchart:hover {\n",
              "    background-color: var(--hover-bg-color);\n",
              "    box-shadow: 0 1px 2px rgba(60, 64, 67, 0.3), 0 1px 3px 1px rgba(60, 64, 67, 0.15);\n",
              "    fill: var(--button-hover-fill-color);\n",
              "  }\n",
              "\n",
              "  .colab-df-quickchart-complete:disabled,\n",
              "  .colab-df-quickchart-complete:disabled:hover {\n",
              "    background-color: var(--disabled-bg-color);\n",
              "    fill: var(--disabled-fill-color);\n",
              "    box-shadow: none;\n",
              "  }\n",
              "\n",
              "  .colab-df-spinner {\n",
              "    border: 2px solid var(--fill-color);\n",
              "    border-color: transparent;\n",
              "    border-bottom-color: var(--fill-color);\n",
              "    animation:\n",
              "      spin 1s steps(1) infinite;\n",
              "  }\n",
              "\n",
              "  @keyframes spin {\n",
              "    0% {\n",
              "      border-color: transparent;\n",
              "      border-bottom-color: var(--fill-color);\n",
              "      border-left-color: var(--fill-color);\n",
              "    }\n",
              "    20% {\n",
              "      border-color: transparent;\n",
              "      border-left-color: var(--fill-color);\n",
              "      border-top-color: var(--fill-color);\n",
              "    }\n",
              "    30% {\n",
              "      border-color: transparent;\n",
              "      border-left-color: var(--fill-color);\n",
              "      border-top-color: var(--fill-color);\n",
              "      border-right-color: var(--fill-color);\n",
              "    }\n",
              "    40% {\n",
              "      border-color: transparent;\n",
              "      border-right-color: var(--fill-color);\n",
              "      border-top-color: var(--fill-color);\n",
              "    }\n",
              "    60% {\n",
              "      border-color: transparent;\n",
              "      border-right-color: var(--fill-color);\n",
              "    }\n",
              "    80% {\n",
              "      border-color: transparent;\n",
              "      border-right-color: var(--fill-color);\n",
              "      border-bottom-color: var(--fill-color);\n",
              "    }\n",
              "    90% {\n",
              "      border-color: transparent;\n",
              "      border-bottom-color: var(--fill-color);\n",
              "    }\n",
              "  }\n",
              "</style>\n",
              "\n",
              "  <script>\n",
              "    async function quickchart(key) {\n",
              "      const quickchartButtonEl =\n",
              "        document.querySelector('#' + key + ' button');\n",
              "      quickchartButtonEl.disabled = true;  // To prevent multiple clicks.\n",
              "      quickchartButtonEl.classList.add('colab-df-spinner');\n",
              "      try {\n",
              "        const charts = await google.colab.kernel.invokeFunction(\n",
              "            'suggestCharts', [key], {});\n",
              "      } catch (error) {\n",
              "        console.error('Error during call to suggestCharts:', error);\n",
              "      }\n",
              "      quickchartButtonEl.classList.remove('colab-df-spinner');\n",
              "      quickchartButtonEl.classList.add('colab-df-quickchart-complete');\n",
              "    }\n",
              "    (() => {\n",
              "      let quickchartButtonEl =\n",
              "        document.querySelector('#df-59381fcd-7d46-44b0-b09b-11de5b20740d button');\n",
              "      quickchartButtonEl.style.display =\n",
              "        google.colab.kernel.accessAllowed ? 'block' : 'none';\n",
              "    })();\n",
              "  </script>\n",
              "</div>\n",
              "    </div>\n",
              "  </div>\n"
            ],
            "application/vnd.google.colaboratory.intrinsic+json": {
              "type": "dataframe",
              "variable_name": "df_day",
              "summary": "{\n  \"name\": \"df_day\",\n  \"rows\": 731,\n  \"fields\": [\n    {\n      \"column\": \"instant\",\n      \"properties\": {\n        \"dtype\": \"number\",\n        \"std\": 211,\n        \"min\": 1,\n        \"max\": 731,\n        \"num_unique_values\": 731,\n        \"samples\": [\n          704,\n          34,\n          301\n        ],\n        \"semantic_type\": \"\",\n        \"description\": \"\"\n      }\n    },\n    {\n      \"column\": \"dteday\",\n      \"properties\": {\n        \"dtype\": \"date\",\n        \"min\": \"2011-01-01 00:00:00\",\n        \"max\": \"2012-12-31 00:00:00\",\n        \"num_unique_values\": 731,\n        \"samples\": [\n          \"2012-12-04 00:00:00\",\n          \"2011-02-03 00:00:00\",\n          \"2011-10-28 00:00:00\"\n        ],\n        \"semantic_type\": \"\",\n        \"description\": \"\"\n      }\n    },\n    {\n      \"column\": \"season\",\n      \"properties\": {\n        \"dtype\": \"number\",\n        \"std\": 1,\n        \"min\": 1,\n        \"max\": 4,\n        \"num_unique_values\": 4,\n        \"samples\": [\n          2,\n          4,\n          1\n        ],\n        \"semantic_type\": \"\",\n        \"description\": \"\"\n      }\n    },\n    {\n      \"column\": \"yr\",\n      \"properties\": {\n        \"dtype\": \"number\",\n        \"std\": 0,\n        \"min\": 0,\n        \"max\": 1,\n        \"num_unique_values\": 2,\n        \"samples\": [\n          1,\n          0\n        ],\n        \"semantic_type\": \"\",\n        \"description\": \"\"\n      }\n    },\n    {\n      \"column\": \"mnth\",\n      \"properties\": {\n        \"dtype\": \"number\",\n        \"std\": 3,\n        \"min\": 1,\n        \"max\": 12,\n        \"num_unique_values\": 12,\n        \"samples\": [\n          11,\n          10\n        ],\n        \"semantic_type\": \"\",\n        \"description\": \"\"\n      }\n    },\n    {\n      \"column\": \"holiday\",\n      \"properties\": {\n        \"dtype\": \"number\",\n        \"std\": 0,\n        \"min\": 0,\n        \"max\": 1,\n        \"num_unique_values\": 2,\n        \"samples\": [\n          1,\n          0\n        ],\n        \"semantic_type\": \"\",\n        \"description\": \"\"\n      }\n    },\n    {\n      \"column\": \"weekday\",\n      \"properties\": {\n        \"dtype\": \"number\",\n        \"std\": 2,\n        \"min\": 0,\n        \"max\": 6,\n        \"num_unique_values\": 7,\n        \"samples\": [\n          6,\n          0\n        ],\n        \"semantic_type\": \"\",\n        \"description\": \"\"\n      }\n    },\n    {\n      \"column\": \"workingday\",\n      \"properties\": {\n        \"dtype\": \"number\",\n        \"std\": 0,\n        \"min\": 0,\n        \"max\": 1,\n        \"num_unique_values\": 2,\n        \"samples\": [\n          1,\n          0\n        ],\n        \"semantic_type\": \"\",\n        \"description\": \"\"\n      }\n    },\n    {\n      \"column\": \"weathersit\",\n      \"properties\": {\n        \"dtype\": \"number\",\n        \"std\": 0,\n        \"min\": 1,\n        \"max\": 3,\n        \"num_unique_values\": 3,\n        \"samples\": [\n          2,\n          1\n        ],\n        \"semantic_type\": \"\",\n        \"description\": \"\"\n      }\n    },\n    {\n      \"column\": \"temp\",\n      \"properties\": {\n        \"dtype\": \"number\",\n        \"std\": 0.18305099611148878,\n        \"min\": 0.0591304,\n        \"max\": 0.861667,\n        \"num_unique_values\": 499,\n        \"samples\": [\n          0.544167,\n          0.430435\n        ],\n        \"semantic_type\": \"\",\n        \"description\": \"\"\n      }\n    },\n    {\n      \"column\": \"atemp\",\n      \"properties\": {\n        \"dtype\": \"number\",\n        \"std\": 0.1629611783863113,\n        \"min\": 0.0790696,\n        \"max\": 0.840896,\n        \"num_unique_values\": 690,\n        \"samples\": [\n          0.463375,\n          0.599754\n        ],\n        \"semantic_type\": \"\",\n        \"description\": \"\"\n      }\n    },\n    {\n      \"column\": \"hum\",\n      \"properties\": {\n        \"dtype\": \"number\",\n        \"std\": 0.14242909513835394,\n        \"min\": 0.0,\n        \"max\": 0.9725,\n        \"num_unique_values\": 595,\n        \"samples\": [\n          0.707083,\n          0.718333\n        ],\n        \"semantic_type\": \"\",\n        \"description\": \"\"\n      }\n    },\n    {\n      \"column\": \"windspeed\",\n      \"properties\": {\n        \"dtype\": \"number\",\n        \"std\": 0.07749787068166941,\n        \"min\": 0.0223917,\n        \"max\": 0.507463,\n        \"num_unique_values\": 650,\n        \"samples\": [\n          0.100742,\n          0.139308\n        ],\n        \"semantic_type\": \"\",\n        \"description\": \"\"\n      }\n    },\n    {\n      \"column\": \"casual\",\n      \"properties\": {\n        \"dtype\": \"number\",\n        \"std\": 686,\n        \"min\": 2,\n        \"max\": 3410,\n        \"num_unique_values\": 606,\n        \"samples\": [\n          709,\n          449\n        ],\n        \"semantic_type\": \"\",\n        \"description\": \"\"\n      }\n    },\n    {\n      \"column\": \"registered\",\n      \"properties\": {\n        \"dtype\": \"number\",\n        \"std\": 1560,\n        \"min\": 20,\n        \"max\": 6946,\n        \"num_unique_values\": 679,\n        \"samples\": [\n          4531,\n          2553\n        ],\n        \"semantic_type\": \"\",\n        \"description\": \"\"\n      }\n    },\n    {\n      \"column\": \"cnt\",\n      \"properties\": {\n        \"dtype\": \"number\",\n        \"std\": 1937,\n        \"min\": 22,\n        \"max\": 8714,\n        \"num_unique_values\": 696,\n        \"samples\": [\n          5170,\n          1607\n        ],\n        \"semantic_type\": \"\",\n        \"description\": \"\"\n      }\n    }\n  ]\n}"
            }
          },
          "metadata": {},
          "execution_count": 299
        }
      ]
    },
    {
      "cell_type": "markdown",
      "source": [
        "## 5. Exploratory Data Analysis (EDA)"
      ],
      "metadata": {
        "id": "kABx3VZHK3Bb"
      }
    },
    {
      "cell_type": "markdown",
      "source": [
        "### Distribution of continuous and categorical variables"
      ],
      "metadata": {
        "id": "0W6qtu6dU0-u"
      }
    },
    {
      "cell_type": "markdown",
      "source": [
        "#### Continuos Variables Distribution"
      ],
      "metadata": {
        "id": "kZMVMMvkXNEn"
      }
    },
    {
      "cell_type": "markdown",
      "source": [
        "From the following visualization, it can be seen that almost all variables have a normal distribution, except for the casual variable which has a right skewed distribution, which means that each day the average casual user is only a few."
      ],
      "metadata": {
        "id": "2VvQ-kVjWHcG"
      }
    },
    {
      "cell_type": "code",
      "source": [
        "columns_to_plot = ['temp', 'atemp', 'hum', 'windspeed', 'casual', 'registered', 'cnt']\n",
        "\n",
        "# Set up the plot size and layout of subplots\n",
        "fig, axes = plt.subplots(nrows=1, ncols=7, figsize=(14, 3))\n",
        "plt.subplots_adjust(hspace=0.5, wspace=0.5)\n",
        "\n",
        "# Loop through each column and create a histogram plot\n",
        "for i, column in enumerate(columns_to_plot):\n",
        "    axes[i].hist(df_day[column], bins=20, color='skyblue', alpha=0.7)\n",
        "    axes[i].set_title(f\"Distribution of {column}\")\n",
        "    axes[i].set_xlabel(column)\n",
        "    axes[i].set_ylabel('Count')\n",
        "\n",
        "# Display all plots in one output\n",
        "plt.tight_layout()\n",
        "plt.show()"
      ],
      "metadata": {
        "colab": {
          "base_uri": "https://localhost:8080/",
          "height": 179
        },
        "id": "pK9bp5jiU90M",
        "outputId": "fdfbb144-bd8b-4613-f039-2d6d67866219"
      },
      "execution_count": 300,
      "outputs": [
        {
          "output_type": "display_data",
          "data": {
            "text/plain": [
              "<Figure size 1400x300 with 7 Axes>"
            ],
            "image/png": "[encoded data removed]"
          },
          "metadata": {}
        }
      ]
    },
    {
      "cell_type": "markdown",
      "source": [
        "#### Categorical Variables Distribution"
      ],
      "metadata": {
        "id": "O2OBIHPyXdaE"
      }
    },
    {
      "cell_type": "markdown",
      "source": [
        "From the output, it can be seen that almost all variables have an imbalance class distribution, except for the season variable which has a balanced class distribution because the length of the season will not change every year."
      ],
      "metadata": {
        "id": "KfohU1EMXhnt"
      }
    },
    {
      "cell_type": "code",
      "source": [
        "# Define the columns to plot\n",
        "columns_to_plot = ['season', 'holiday', 'workingday', 'weathersit']\n",
        "\n",
        "# Set up the plot size and layout of subplots\n",
        "fig, axes = plt.subplots(nrows=1, ncols=4, figsize=(14, 3))\n",
        "plt.subplots_adjust(hspace=0.5, wspace=0.5)\n",
        "\n",
        "# Loop through each column and create a histogram plot with narrower bars\n",
        "for i, column in enumerate(columns_to_plot):\n",
        "    axes[i].hist(df_day[column], bins=len(df_day[column].unique()), color='skyblue', alpha=0.7, width=0.4)\n",
        "    axes[i].set_title(f\"Distribution of {column}\")\n",
        "    axes[i].set_xlabel(column)\n",
        "    axes[i].set_ylabel('Frequency')\n",
        "\n",
        "# Display all plots in one output\n",
        "plt.tight_layout()\n",
        "plt.show()"
      ],
      "metadata": {
        "colab": {
          "base_uri": "https://localhost:8080/",
          "height": 180
        },
        "id": "CvTFmyL6XqRu",
        "outputId": "27ac1042-4f7c-445b-eef8-435c7da7ec4a"
      },
      "execution_count": 301,
      "outputs": [
        {
          "output_type": "display_data",
          "data": {
            "text/plain": [
              "<Figure size 1400x300 with 4 Axes>"
            ],
            "image/png": "[encoded data removed]"
          },
          "metadata": {}
        }
      ]
    },
    {
      "cell_type": "markdown",
      "source": [
        "### Average comparison of regular and registered users"
      ],
      "metadata": {
        "id": "kcj1YD4bWeK_"
      }
    },
    {
      "cell_type": "markdown",
      "source": [
        "From the output, it can be assumed that bicycle borrowers for each day are more registered users than casual borrowers."
      ],
      "metadata": {
        "id": "_O2HcXEUWgmO"
      }
    },
    {
      "cell_type": "code",
      "source": [
        "# Calculate the mean for 'casual' and 'registered' variables\n",
        "overall_avg_casual = np.mean(df_day['casual'])\n",
        "overall_avg_registered = np.mean(df_day['registered'])\n",
        "\n",
        "# Create a DataFrame for the mean results\n",
        "data = {'Variable': ['Casual', 'Registered'],\n",
        "        'Mean': [overall_avg_casual, overall_avg_registered]}\n",
        "pivot_table_overall = pd.DataFrame(data)\n",
        "\n",
        "# Display the pivot table\n",
        "print(\"Pivot Table for the average number of bike rentals from casual and registered users:\")\n",
        "print(pivot_table_overall.to_string(index=False))"
      ],
      "metadata": {
        "colab": {
          "base_uri": "https://localhost:8080/"
        },
        "id": "zkcIxEcHWg5J",
        "outputId": "120a1afb-e256-4258-d0ce-b72a08916638"
      },
      "execution_count": 302,
      "outputs": [
        {
          "output_type": "stream",
          "name": "stdout",
          "text": [
            "Pivot Table for the average number of bike rentals from casual and registered users:\n",
            "  Variable    Mean\n",
            "    Casual  848.18\n",
            "Registered 3656.17\n"
          ]
        }
      ]
    },
    {
      "cell_type": "markdown",
      "source": [
        "### The effect of certain days on the number of bicycle rental loans"
      ],
      "metadata": {
        "id": "-KRVKP-fQTVv"
      }
    },
    {
      "cell_type": "markdown",
      "source": [
        "From the output, it can be assumed that bicycle loans will be high on weekdays and not weeekends or holidays."
      ],
      "metadata": {
        "id": "1mNDuQ2WR_yG"
      }
    },
    {
      "cell_type": "code",
      "source": [
        "# Performing mapping for each categorical variable\n",
        "df_day['holiday'] = df_day['holiday'].map({0: 'No', 1: 'Yes'})\n",
        "df_day['weekday'] = df_day['weekday'].map({0: 'Sunday', 1: 'Monday', 2: 'Tuesday', 3: 'Wednesday', 4: 'Thursday', 5: 'Friday', 6: 'Saturday'})\n",
        "df_day['workingday'] = df_day['workingday'].map({0: 'No', 1: 'Yes'})\n",
        "\n",
        "# Creating pivot tables for the average number of bike rentals against categorical day variables\n",
        "pivot_holiday = df_day.groupby(by=[\"holiday\"]).agg({\"cnt\": \"mean\"}).reset_index()\n",
        "pivot_weekday = df_day.groupby(by=[\"weekday\"]).agg({\"cnt\": \"mean\"}).reindex(['Monday', 'Tuesday', 'Wednesday', 'Thursday', 'Friday', 'Saturday', 'Sunday']).reset_index()\n",
        "pivot_workingday = df_day.groupby(by=[\"workingday\"]).agg({\"cnt\": \"mean\"}).reset_index()\n"
      ],
      "metadata": {
        "id": "mWMVLUjXOn2_"
      },
      "execution_count": 303,
      "outputs": []
    },
    {
      "cell_type": "code",
      "source": [
        "print(\"Average bike rentals against holiday status:\")\n",
        "print(pivot_holiday.to_string(index=False))"
      ],
      "metadata": {
        "colab": {
          "base_uri": "https://localhost:8080/"
        },
        "id": "8Hk8I5cJP_Mr",
        "outputId": "d26ccfc2-6fe4-4006-d683-3307d754b18f"
      },
      "execution_count": 304,
      "outputs": [
        {
          "output_type": "stream",
          "name": "stdout",
          "text": [
            "Average bike rentals against holiday status:\n",
            "holiday     cnt\n",
            "     No 4527.10\n",
            "    Yes 3735.00\n"
          ]
        }
      ]
    },
    {
      "cell_type": "code",
      "source": [
        "print(\"Average bike rentals against weekday:\")\n",
        "print(pivot_weekday.to_string(index=False))"
      ],
      "metadata": {
        "colab": {
          "base_uri": "https://localhost:8080/"
        },
        "id": "PMUWgrLHQDes",
        "outputId": "83458daf-8adf-4930-9fff-fa066def9f67"
      },
      "execution_count": 305,
      "outputs": [
        {
          "output_type": "stream",
          "name": "stdout",
          "text": [
            "Average bike rentals against weekday:\n",
            "  weekday     cnt\n",
            "   Monday 4338.12\n",
            "  Tuesday 4510.66\n",
            "Wednesday 4548.54\n",
            " Thursday 4667.26\n",
            "   Friday 4690.29\n",
            " Saturday 4550.54\n",
            "   Sunday 4228.83\n"
          ]
        }
      ]
    },
    {
      "cell_type": "code",
      "source": [
        "print(\"Average bike rentals against working day:\")\n",
        "print(pivot_workingday.to_string(index=False))"
      ],
      "metadata": {
        "colab": {
          "base_uri": "https://localhost:8080/"
        },
        "id": "BZCYr4fSQFgU",
        "outputId": "a26978ea-aa5c-4f93-fc45-8884b5e9403a"
      },
      "execution_count": 306,
      "outputs": [
        {
          "output_type": "stream",
          "name": "stdout",
          "text": [
            "Average bike rentals against working day:\n",
            "workingday     cnt\n",
            "        No 4330.17\n",
            "       Yes 4584.82\n"
          ]
        }
      ]
    },
    {
      "cell_type": "markdown",
      "source": [
        "### Relationship between seasons and the number of bicycle rental loans"
      ],
      "metadata": {
        "id": "rqEo9tY7TJES"
      }
    },
    {
      "cell_type": "markdown",
      "source": [
        "From the output, it can be assumed that bicycle borrowing will be high on days with good weather and not in spring."
      ],
      "metadata": {
        "id": "fknOBgCuUlm0"
      }
    },
    {
      "cell_type": "code",
      "source": [
        "# Performing mapping for each categorical variable\n",
        "df_day['weathersit'] = df_day['weathersit'].map({1: 'Clear', 2: 'Misty', 3: 'Light Rain', 4: 'Heavy Rain'})\n",
        "df_day['season'] = df_day['season'].map({1: 'Spring', 2: 'Summer', 3: 'Fall', 4: 'Winter'})\n",
        "\n",
        "# Setting the order of categories\n",
        "weathersit_order = ['Clear', 'Misty', 'Light Rain', 'Heavy Rain']\n",
        "season_order = ['Spring', 'Summer', 'Fall', 'Winter']"
      ],
      "metadata": {
        "id": "Yt9QtTosQzF6"
      },
      "execution_count": 307,
      "outputs": []
    },
    {
      "cell_type": "code",
      "source": [
        "# Creating pivot tables for the average number of bike rentals against weather and season variables\n",
        "pivot_weathersit = df_day.groupby(by=[\"weathersit\"]).agg({\"cnt\": \"mean\"}).reindex(weathersit_order, fill_value=0).reset_index()\n",
        "pivot_season = df_day.groupby(by=[\"season\"]).agg({\"cnt\": \"mean\"}).reindex(season_order, fill_value=0).reset_index()"
      ],
      "metadata": {
        "id": "wgSIKI3JUM0W"
      },
      "execution_count": 308,
      "outputs": []
    },
    {
      "cell_type": "code",
      "source": [
        "print(\"Average bike rentals against weather conditions:\")\n",
        "print(pivot_weathersit.to_string(index=False))"
      ],
      "metadata": {
        "colab": {
          "base_uri": "https://localhost:8080/"
        },
        "id": "vM8yOVQrUSMm",
        "outputId": "8737c831-480d-4dd4-afb5-27779cf7443d"
      },
      "execution_count": 309,
      "outputs": [
        {
          "output_type": "stream",
          "name": "stdout",
          "text": [
            "Average bike rentals against weather conditions:\n",
            "weathersit     cnt\n",
            "     Clear 4876.79\n",
            "     Misty 4035.86\n",
            "Light Rain 1803.29\n",
            "Heavy Rain    0.00\n"
          ]
        }
      ]
    },
    {
      "cell_type": "code",
      "source": [
        "print(\"Average bike rentals against season:\")\n",
        "print(pivot_season.to_string(index=False))"
      ],
      "metadata": {
        "colab": {
          "base_uri": "https://localhost:8080/"
        },
        "id": "Er1NdztpUWdG",
        "outputId": "425af1de-47be-49a1-b13a-5e11860188fe"
      },
      "execution_count": 310,
      "outputs": [
        {
          "output_type": "stream",
          "name": "stdout",
          "text": [
            "Average bike rentals against season:\n",
            "season     cnt\n",
            "Spring 2604.13\n",
            "Summer 4992.33\n",
            "  Fall 5644.30\n",
            "Winter 4728.16\n"
          ]
        }
      ]
    },
    {
      "cell_type": "markdown",
      "source": [
        "### Correlation between numerical variables"
      ],
      "metadata": {
        "id": "vqV9KRk9YsEh"
      }
    },
    {
      "cell_type": "code",
      "source": [
        "# Calculate correlation matrix\n",
        "corr = df.corr()\n",
        "\n",
        "# Set up plot size\n",
        "plt.figure(figsize=(10, 8))\n",
        "\n",
        "# Plot correlation matrix\n",
        "heatmap = plt.imshow(corr, cmap='coolwarm', interpolation='nearest')\n",
        "plt.colorbar(heatmap)\n",
        "\n",
        "# Set labels and ticks\n",
        "plt.title('Correlation Matrix')\n",
        "plt.xticks(range(len(corr.columns)), corr.columns, rotation=45, ha='right', fontsize=10)\n",
        "plt.yticks(range(len(corr.columns)), corr.columns, fontsize=10)\n",
        "\n",
        "# Show plot\n",
        "plt.tight_layout()\n",
        "plt.show()\n"
      ],
      "metadata": {
        "colab": {
          "base_uri": "https://localhost:8080/",
          "height": 702
        },
        "id": "NtRwtY1JaTR7",
        "outputId": "1d589d18-eb9a-4891-a934-9f8f05013a06"
      },
      "execution_count": 311,
      "outputs": [
        {
          "output_type": "display_data",
          "data": {
            "text/plain": [
              "<Figure size 1000x800 with 2 Axes>"
            ],
            "image/png": "[encoded data removed]"
          },
          "metadata": {}
        }
      ]
    },
    {
      "cell_type": "markdown",
      "source": [
        "## 6. Explanatory Analysis"
      ],
      "metadata": {
        "id": "VsOnAfajfAYF"
      }
    },
    {
      "cell_type": "markdown",
      "source": [
        "### Spesific"
      ],
      "metadata": {
        "id": "Rs3lsGljliGK"
      }
    },
    {
      "cell_type": "markdown",
      "source": [
        "1. How many bike rentals are used on Monday in September 2011 during the fall season?"
      ],
      "metadata": {
        "id": "nDgDe4P2fCzn"
      }
    },
    {
      "cell_type": "code",
      "source": [
        "# Filter the dataframe based on the specified conditions\n",
        "filtered_df_day = df_day[(df_day['yr'] == 0) & (df_day['mnth'] == 9) & (df_day['weekday'] == \"Monday\") & (df_day['season'] == \"Fall\")]\n",
        "\n",
        "# Calculate the total bike rentals\n",
        "total_rentals = filtered_df_day['cnt'].sum()\n",
        "\n",
        "# Display the result\n",
        "print(\"Total bike rentals on Mondays in September 2011 during the fall:\", total_rentals)"
      ],
      "metadata": {
        "colab": {
          "base_uri": "https://localhost:8080/"
        },
        "id": "sY9p8gptfm-H",
        "outputId": "3e72a213-1093-4f14-e747-7718093c4842"
      },
      "execution_count": 321,
      "outputs": [
        {
          "output_type": "stream",
          "name": "stdout",
          "text": [
            "Total bike rentals on Mondays in September 2011 during the fall: 12603\n"
          ]
        }
      ]
    },
    {
      "cell_type": "markdown",
      "source": [
        "### Measurable"
      ],
      "metadata": {
        "id": "uy3Aygj7llpe"
      }
    },
    {
      "cell_type": "markdown",
      "source": [
        "2. How many bike rentals were used on holidays during the winter season in 2012?"
      ],
      "metadata": {
        "id": "HczaaG-JhXPk"
      }
    },
    {
      "cell_type": "code",
      "source": [
        "# Filter the dataframe based on the specified conditions\n",
        "filtered_df_day = df_day[(df_day['yr'] == 1) & (df_day['season'] == 'Winter') & (df_day['holiday'] == 'Yes')]\n",
        "\n",
        "# Calculate the total number of bike rentals\n",
        "total_rentals = filtered_df_day['cnt'].sum()\n",
        "\n",
        "# Display the result\n",
        "print(\"Total bike rentals on holidays during the winter season in 2012:\", total_rentals)"
      ],
      "metadata": {
        "colab": {
          "base_uri": "https://localhost:8080/"
        },
        "id": "_DPthC8hhR8B",
        "outputId": "667bd0e0-d214-4d58-de99-30bd5ed945d4"
      },
      "execution_count": 320,
      "outputs": [
        {
          "output_type": "stream",
          "name": "stdout",
          "text": [
            "Total bike rentals on holidays during the winter season in 2012: 14172\n"
          ]
        }
      ]
    },
    {
      "cell_type": "markdown",
      "source": [
        "### Action-oriented"
      ],
      "metadata": {
        "id": "vO1KW0yOlrvP"
      }
    },
    {
      "cell_type": "markdown",
      "source": [
        "3. How to increase the number of rental bicycles used by regular users on weekdays, with seasonality as the most influential variable?"
      ],
      "metadata": {
        "id": "7kMQ4C3qi6AC"
      }
    },
    {
      "cell_type": "markdown",
      "source": [
        "Based on the observation that \"Summer\" is the top factor affecting casual bike rentals on working days, followed by \"Winter\" and \"Fall,\" we can draw several conclusions to increase the number of bike rentals used by casual users on working days:\n",
        "\n",
        "1. **Promote Summer Events**: Organize special events or promotions during the summer season to attract more casual users to rent bikes on working days.\n",
        "2. **Offer Winter and Fall Promotions**: Provide discounts or offers tailored to winter and fall seasons to encourage casual users to rent bikes during these times.\n",
        "3. **Improve Riding Conditions**: Enhance bike infrastructure and urban planning to create safer and more enjoyable riding experiences for casual users throughout all seasons.\n",
        "4. **Targeted Marketing**: Use targeted marketing campaigns to highlight the benefits of bike rentals on working days, emphasizing convenience, health benefits, and environmental sustainability."
      ],
      "metadata": {
        "id": "NMNbyVupkBFL"
      }
    },
    {
      "cell_type": "code",
      "source": [
        "# Filter the dataframe to select data for working days\n",
        "working_days_data = df_day[df_day['workingday'] == \"Yes\"]\n",
        "\n",
        "# Group the data by various factors and calculate the average number of casual bike rentals\n",
        "casual_rentals_by_factors = working_days_data.groupby(['season', 'weathersit', 'temp', 'hum', 'windspeed'])['casual'].mean().reset_index()\n",
        "\n",
        "# Sort the data by the average number of casual bike rentals in descending order\n",
        "casual_rentals_by_factors = casual_rentals_by_factors.sort_values(by='casual', ascending=False)\n",
        "\n",
        "# Visualize the factors affecting casual bike rentals on working days\n",
        "plt.figure(figsize=(12, 6))\n",
        "sns.barplot(data=casual_rentals_by_factors.head(10), x='casual', y='season', orient='h', palette='viridis')\n",
        "plt.title('Top Factors Affecting Casual Bike Rentals on Working Days')\n",
        "plt.xlabel('Average Number of Casual Bike Rentals')\n",
        "plt.ylabel('Season')\n",
        "plt.show()"
      ],
      "metadata": {
        "colab": {
          "base_uri": "https://localhost:8080/",
          "height": 429
        },
        "id": "2EJV4UrTi6Nc",
        "outputId": "3be174bf-46e3-49aa-de88-ea8f8badf526"
      },
      "execution_count": 314,
      "outputs": [
        {
          "output_type": "display_data",
          "data": {
            "text/plain": [
              "<Figure size 1200x600 with 1 Axes>"
            ],
            "image/png": "[encoded data removed]"
          },
          "metadata": {}
        }
      ]
    },
    {
      "cell_type": "markdown",
      "source": [
        "### Relevant"
      ],
      "metadata": {
        "id": "xd4EzfIQkea4"
      }
    },
    {
      "cell_type": "markdown",
      "source": [
        "4. What is the relationship or correlation between temperature (temp) and the number of registered users?"
      ],
      "metadata": {
        "id": "fj4RXQIBld9t"
      }
    },
    {
      "cell_type": "markdown",
      "source": [
        "The plot shows a positive correlation indicating that increasing temperature (temp) also increases the number of registered users."
      ],
      "metadata": {
        "id": "fxo8FE7Gl1qD"
      }
    },
    {
      "cell_type": "code",
      "source": [
        "# Plotting the relationship between temperature and registered users\n",
        "plt.figure(figsize=(8, 6))\n",
        "plt.scatter(df_day['temp'], df_day['registered'], color='blue', alpha=0.5)\n",
        "plt.title('Relationship between Temperature and Registered Users')\n",
        "plt.xlabel('Temperature (Celsius)')\n",
        "plt.ylabel('Number of Registered Users')\n",
        "plt.grid(True)\n",
        "plt.show()"
      ],
      "metadata": {
        "colab": {
          "base_uri": "https://localhost:8080/",
          "height": 564
        },
        "id": "Vd_nEGa-lzd3",
        "outputId": "15aff5b2-0f2a-4eaa-a3bc-0ec9f7f04aed"
      },
      "execution_count": 315,
      "outputs": [
        {
          "output_type": "display_data",
          "data": {
            "text/plain": [
              "<Figure size 800x600 with 1 Axes>"
            ],
            "image/png": "[encoded data removed]"
          },
          "metadata": {}
        }
      ]
    },
    {
      "cell_type": "markdown",
      "source": [
        "### Time-bound"
      ],
      "metadata": {
        "id": "1EmXqZjCnEX9"
      }
    },
    {
      "cell_type": "markdown",
      "source": [
        "5. How did the bike lending service perform for this quarter compared to the previous quarter or the previous year? How to improve performance for the next quarter?"
      ],
      "metadata": {
        "id": "RpetWWiJoy0m"
      }
    },
    {
      "cell_type": "markdown",
      "source": [
        "The total number of bike rentals for the current quarter is lower than the total for the previous quarter. This indicates a decrease in bike rental activity during this quarter compared to the previous quarter.\n",
        "\n",
        "Strategies to improve performance for the next quarter:\n",
        "\n",
        "1. **Marketing**: Increase targeted ads, social media, and local partnerships.\n",
        "2. **Services**: Offer discounts, loyalty programs, and new bike options.\n",
        "3. **Infrastructure**: Expand network, enhance lanes, and upgrade tech.\n",
        "4. **Feedback**: Gather insights, address concerns, and tailor services.\n",
        "5. **Partnerships**: Collaborate with local businesses and events for visibility."
      ],
      "metadata": {
        "id": "_nTfBkpCnIb2"
      }
    },
    {
      "cell_type": "code",
      "source": [
        "# Group the data by quarter and calculate the total number of bike rentals (cnt) for each quarter\n",
        "df_day['quarter'] = df_day['dteday'].dt.quarter\n",
        "quarterly_rentals = df_day.groupby('quarter')['cnt'].sum()\n",
        "\n",
        "# Compare the total number of bike rentals for this quarter with the previous quarter or the previous year\n",
        "current_quarter_rentals = quarterly_rentals.iloc[-1]\n",
        "previous_quarter_rentals = quarterly_rentals.iloc[-2]\n",
        "\n",
        "# Print the comparison results\n",
        "print(\"Total bike rentals for the current quarter:\", current_quarter_rentals)\n",
        "print(\"Total bike rentals for the previous quarter:\", previous_quarter_rentals)\n",
        "\n",
        "# Analyze trends and factors influencing performance and suggest improvements for the next quarter\n",
        "# Suggestions for improvement could include increasing marketing efforts, expanding bike-sharing infrastructure, improving user experience, offering promotions or discounts, and enhancing customer support services."
      ],
      "metadata": {
        "colab": {
          "base_uri": "https://localhost:8080/"
        },
        "id": "D8ib17DXm7AK",
        "outputId": "817a01cb-632c-489b-f828-eb9a137bf931"
      },
      "execution_count": 317,
      "outputs": [
        {
          "output_type": "stream",
          "name": "stdout",
          "text": [
            "Total bike rentals for the current quarter: 788219\n",
            "Total bike rentals for the previous quarter: 1042133\n"
          ]
        }
      ]
    },
    {
      "cell_type": "markdown",
      "source": [
        "## 7. Conclusions"
      ],
      "metadata": {
        "id": "g2i0ZKyDshDX"
      }
    },
    {
      "cell_type": "markdown",
      "source": [
        "* Bike rentals on Mondays in September 2011 during fall totaled 12,603, indicating moderate demand for rentals during that time.\n",
        "* Bike rentals on holidays during the winter season in 2012 reached 14,172, suggesting notable usage during holiday periods and colder weather.\n",
        "* To increase rental bicycles used by regular users on weekdays, focus on seasonal factors:\n",
        "  * Leverage Summer Events: Promote special events or discounts during the summer season to boost rentals.\n",
        "  * Offer Tailored Promotions: Provide targeted offers aligned with winter and fall seasons to encourage more rentals.\n",
        "  * Enhance Riding Conditions: Improve infrastructure to enhance biking experiences throughout all seasons.\n",
        "  * Targeted Marketing: Use targeted marketing campaigns to emphasize weekday rentals, highlighting convenience and health benefits.\n",
        "* The relationship between temperature and registered users indicates a positive correlation, suggesting higher temperatures correspond to increased registered users' usage.\n",
        "* Total bike rentals for the current quarter (788,219) were lower than the previous quarter (1,042,133), signaling a decrease in rental activity. Strategies to improve performance include marketing efforts, service enhancements, infrastructure investments, feedback gathering, and partnerships."
      ],
      "metadata": {
        "id": "BrsxSuSvsi5G"
      }
    }
  ]
}